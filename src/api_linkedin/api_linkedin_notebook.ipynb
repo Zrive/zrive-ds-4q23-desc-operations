{
 "cells": [
  {
   "cell_type": "code",
   "execution_count": 3,
   "metadata": {},
   "outputs": [],
   "source": [
    "import requests"
   ]
  },
  {
   "cell_type": "code",
   "execution_count": 4,
   "metadata": {},
   "outputs": [],
   "source": [
    "def search_linkedin_company(api_key, access_token, company_name):\n",
    "    # URL de la API de búsqueda de entidades organizativas\n",
    "    url = f'https://api.linkedin.com/v2/organizationalEntitySearch?q=companiesV2&query={company_name}'\n",
    "\n",
    "    # Configuración de la cabecera con la clave de API y el token de acceso\n",
    "    headers = {\n",
    "        'Authorization': f'Bearer {access_token}',\n",
    "        'Connection': 'Keep-Alive',\n",
    "    }\n",
    "\n",
    "    # Realizar la solicitud GET\n",
    "    response = requests.get(url, headers=headers)\n",
    "\n",
    "    if response.status_code == 200:\n",
    "        # La respuesta es un JSON que contiene la información de la empresa\n",
    "        company_data = response.json()\n",
    "        return company_data\n",
    "    else:\n",
    "        print(f'Error al realizar la solicitud. Código de estado: {response.status_code}')\n",
    "        print(response.text)\n",
    "        return None"
   ]
  },
  {
   "cell_type": "code",
   "execution_count": null,
   "metadata": {},
   "outputs": [],
   "source": [
    "# Uso de la función\n",
    "api_key = 'tu_clave_de_api_de_linkedin'\n",
    "access_token = 'tu_token_de_acceso_obtenido_anteriormente'\n",
    "company_name = 'nombre_de_la_empresa'\n",
    "company_data = search_linkedin_company(api_key, access_token, company_name)\n",
    "\n",
    "if company_data:\n",
    "    print(company_data)"
   ]
  }
 ],
 "metadata": {
  "kernelspec": {
   "display_name": ".venv",
   "language": "python",
   "name": "python3"
  },
  "language_info": {
   "codemirror_mode": {
    "name": "ipython",
    "version": 3
   },
   "file_extension": ".py",
   "mimetype": "text/x-python",
   "name": "python",
   "nbconvert_exporter": "python",
   "pygments_lexer": "ipython3",
   "version": "3.11.0"
  }
 },
 "nbformat": 4,
 "nbformat_minor": 2
}
