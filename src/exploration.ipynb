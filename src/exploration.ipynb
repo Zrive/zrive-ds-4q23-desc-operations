{
 "cells": [
  {
   "cell_type": "code",
   "execution_count": 3,
   "metadata": {},
   "outputs": [],
   "source": [
    "from transformers import pipeline\n",
    "import pandas as pd"
   ]
  },
  {
   "cell_type": "code",
   "execution_count": 7,
   "metadata": {},
   "outputs": [
    {
     "data": {
      "text/html": [
       "<div>\n",
       "<style scoped>\n",
       "    .dataframe tbody tr th:only-of-type {\n",
       "        vertical-align: middle;\n",
       "    }\n",
       "\n",
       "    .dataframe tbody tr th {\n",
       "        vertical-align: top;\n",
       "    }\n",
       "\n",
       "    .dataframe thead th {\n",
       "        text-align: right;\n",
       "    }\n",
       "</style>\n",
       "<table border=\"1\" class=\"dataframe\">\n",
       "  <thead>\n",
       "    <tr style=\"text-align: right;\">\n",
       "      <th></th>\n",
       "      <th>Company_NAME</th>\n",
       "      <th>SIC1</th>\n",
       "      <th>URL</th>\n",
       "      <th>WEB</th>\n",
       "      <th>wikipedia_v1</th>\n",
       "      <th>wikipedia_v2</th>\n",
       "      <th>wikipedia_v3</th>\n",
       "      <th>description_web_pablo</th>\n",
       "    </tr>\n",
       "  </thead>\n",
       "  <tbody>\n",
       "    <tr>\n",
       "      <th>0</th>\n",
       "      <td>BRINK'S UKRAINE, INC.</td>\n",
       "      <td>7381</td>\n",
       "      <td>us.brinks.com</td>\n",
       "      <td>see my product options\\nThe way in which you h...</td>\n",
       "      <td>NaN</td>\n",
       "      <td>Joseph Robinette Biden Jr. (  BY-dən; born Nov...</td>\n",
       "      <td>NaN</td>\n",
       "      <td>{'web_text': \"Home - Brink's US Navigation Ski...</td>\n",
       "    </tr>\n",
       "    <tr>\n",
       "      <th>1</th>\n",
       "      <td>AES CALGARY, INC.</td>\n",
       "      <td>4911</td>\n",
       "      <td>www.aes.com</td>\n",
       "      <td>e n e r g y\\nAccelerating the future of\\nenerg...</td>\n",
       "      <td>TransAlta Corporation (formerly Calgary Power ...</td>\n",
       "      <td>TransAlta Corporation (formerly Calgary Power ...</td>\n",
       "      <td>NaN</td>\n",
       "      <td>{'web_text': \"AES | Global Energy Companies Sk...</td>\n",
       "    </tr>\n",
       "    <tr>\n",
       "      <th>2</th>\n",
       "      <td>AURORA AES HOLDINGS INC</td>\n",
       "      <td>4911</td>\n",
       "      <td>www.aes.com</td>\n",
       "      <td>e n e r g y\\nAccelerating the future of\\nenerg...</td>\n",
       "      <td>This is a list of companies in the United Stat...</td>\n",
       "      <td>This is a list of companies in the United Stat...</td>\n",
       "      <td>NaN</td>\n",
       "      <td>{'web_text': \"AES | Global Energy Companies Sk...</td>\n",
       "    </tr>\n",
       "    <tr>\n",
       "      <th>3</th>\n",
       "      <td>AES CENTRAL AMERICAN HOLDINGS, INC.</td>\n",
       "      <td>4911</td>\n",
       "      <td>www.aes.com</td>\n",
       "      <td>e n e r g y\\nAccelerating the future of\\nenerg...</td>\n",
       "      <td>Union Pacific Corporation is a publicly traded...</td>\n",
       "      <td>Union Pacific Corporation is a publicly traded...</td>\n",
       "      <td>NaN</td>\n",
       "      <td>{'web_text': \"AES | Global Energy Companies Sk...</td>\n",
       "    </tr>\n",
       "    <tr>\n",
       "      <th>4</th>\n",
       "      <td>AES CARBON HOLDINGS, LLC</td>\n",
       "      <td>4911</td>\n",
       "      <td>www.aes.com</td>\n",
       "      <td>e n e r g y\\nAccelerating the future of\\nenerg...</td>\n",
       "      <td>The Abu Dhabi National Oil Company (Arabic: شر...</td>\n",
       "      <td>The Abu Dhabi National Oil Company (Arabic: شر...</td>\n",
       "      <td>NaN</td>\n",
       "      <td>{'web_text': \"AES | Global Energy Companies Sk...</td>\n",
       "    </tr>\n",
       "  </tbody>\n",
       "</table>\n",
       "</div>"
      ],
      "text/plain": [
       "                          Company_NAME  SIC1            URL  \\\n",
       "0                BRINK'S UKRAINE, INC.  7381  us.brinks.com   \n",
       "1                    AES CALGARY, INC.  4911    www.aes.com   \n",
       "2              AURORA AES HOLDINGS INC  4911    www.aes.com   \n",
       "3  AES CENTRAL AMERICAN HOLDINGS, INC.  4911    www.aes.com   \n",
       "4             AES CARBON HOLDINGS, LLC  4911    www.aes.com   \n",
       "\n",
       "                                                 WEB  \\\n",
       "0  see my product options\\nThe way in which you h...   \n",
       "1  e n e r g y\\nAccelerating the future of\\nenerg...   \n",
       "2  e n e r g y\\nAccelerating the future of\\nenerg...   \n",
       "3  e n e r g y\\nAccelerating the future of\\nenerg...   \n",
       "4  e n e r g y\\nAccelerating the future of\\nenerg...   \n",
       "\n",
       "                                        wikipedia_v1  \\\n",
       "0                                                NaN   \n",
       "1  TransAlta Corporation (formerly Calgary Power ...   \n",
       "2  This is a list of companies in the United Stat...   \n",
       "3  Union Pacific Corporation is a publicly traded...   \n",
       "4  The Abu Dhabi National Oil Company (Arabic: شر...   \n",
       "\n",
       "                                        wikipedia_v2  wikipedia_v3  \\\n",
       "0  Joseph Robinette Biden Jr. (  BY-dən; born Nov...           NaN   \n",
       "1  TransAlta Corporation (formerly Calgary Power ...           NaN   \n",
       "2  This is a list of companies in the United Stat...           NaN   \n",
       "3  Union Pacific Corporation is a publicly traded...           NaN   \n",
       "4  The Abu Dhabi National Oil Company (Arabic: شر...           NaN   \n",
       "\n",
       "                               description_web_pablo  \n",
       "0  {'web_text': \"Home - Brink's US Navigation Ski...  \n",
       "1  {'web_text': \"AES | Global Energy Companies Sk...  \n",
       "2  {'web_text': \"AES | Global Energy Companies Sk...  \n",
       "3  {'web_text': \"AES | Global Energy Companies Sk...  \n",
       "4  {'web_text': \"AES | Global Energy Companies Sk...  "
      ]
     },
     "execution_count": 7,
     "metadata": {},
     "output_type": "execute_result"
    }
   ],
   "source": [
    "df = pd.read_csv(r\"data/POC Description of operations - Sheet3_FINAL.csv\", index_col=0)\n",
    "df.head()"
   ]
  },
  {
   "cell_type": "code",
   "execution_count": 10,
   "metadata": {},
   "outputs": [],
   "source": [
    "wkv1 = df.wikipedia_v1.dropna().to_list()"
   ]
  },
  {
   "cell_type": "code",
   "execution_count": 14,
   "metadata": {},
   "outputs": [
    {
     "ename": "RuntimeError",
     "evalue": "At least one of TensorFlow 2.0 or PyTorch should be installed. To install TensorFlow 2.0, read the instructions at https://www.tensorflow.org/install/ To install PyTorch, read the instructions at https://pytorch.org/.",
     "output_type": "error",
     "traceback": [
      "\u001b[0;31m---------------------------------------------------------------------------\u001b[0m",
      "\u001b[0;31mRuntimeError\u001b[0m                              Traceback (most recent call last)",
      "Cell \u001b[0;32mIn[14], line 1\u001b[0m\n\u001b[0;32m----> 1\u001b[0m summarizer \u001b[38;5;241m=\u001b[39m \u001b[43mpipeline\u001b[49m\u001b[43m(\u001b[49m\u001b[38;5;124;43m\"\u001b[39;49m\u001b[38;5;124;43msummarization\u001b[39;49m\u001b[38;5;124;43m\"\u001b[39;49m\u001b[43m,\u001b[49m\u001b[43m \u001b[49m\u001b[43mmodel\u001b[49m\u001b[38;5;241;43m=\u001b[39;49m\u001b[38;5;124;43m\"\u001b[39;49m\u001b[38;5;124;43mfacebook/bart-large-cnn\u001b[39;49m\u001b[38;5;124;43m\"\u001b[39;49m\u001b[43m)\u001b[49m\n",
      "File \u001b[0;32m~/.pyenv/versions/3.11.0/envs/coverwallet/lib/python3.11/site-packages/transformers/pipelines/__init__.py:870\u001b[0m, in \u001b[0;36mpipeline\u001b[0;34m(task, model, config, tokenizer, feature_extractor, image_processor, framework, revision, use_fast, token, device, device_map, torch_dtype, trust_remote_code, model_kwargs, pipeline_class, **kwargs)\u001b[0m\n\u001b[1;32m    868\u001b[0m \u001b[38;5;28;01mif\u001b[39;00m \u001b[38;5;28misinstance\u001b[39m(model, \u001b[38;5;28mstr\u001b[39m) \u001b[38;5;129;01mor\u001b[39;00m framework \u001b[38;5;129;01mis\u001b[39;00m \u001b[38;5;28;01mNone\u001b[39;00m:\n\u001b[1;32m    869\u001b[0m     model_classes \u001b[38;5;241m=\u001b[39m {\u001b[38;5;124m\"\u001b[39m\u001b[38;5;124mtf\u001b[39m\u001b[38;5;124m\"\u001b[39m: targeted_task[\u001b[38;5;124m\"\u001b[39m\u001b[38;5;124mtf\u001b[39m\u001b[38;5;124m\"\u001b[39m], \u001b[38;5;124m\"\u001b[39m\u001b[38;5;124mpt\u001b[39m\u001b[38;5;124m\"\u001b[39m: targeted_task[\u001b[38;5;124m\"\u001b[39m\u001b[38;5;124mpt\u001b[39m\u001b[38;5;124m\"\u001b[39m]}\n\u001b[0;32m--> 870\u001b[0m     framework, model \u001b[38;5;241m=\u001b[39m \u001b[43minfer_framework_load_model\u001b[49m\u001b[43m(\u001b[49m\n\u001b[1;32m    871\u001b[0m \u001b[43m        \u001b[49m\u001b[43mmodel\u001b[49m\u001b[43m,\u001b[49m\n\u001b[1;32m    872\u001b[0m \u001b[43m        \u001b[49m\u001b[43mmodel_classes\u001b[49m\u001b[38;5;241;43m=\u001b[39;49m\u001b[43mmodel_classes\u001b[49m\u001b[43m,\u001b[49m\n\u001b[1;32m    873\u001b[0m \u001b[43m        \u001b[49m\u001b[43mconfig\u001b[49m\u001b[38;5;241;43m=\u001b[39;49m\u001b[43mconfig\u001b[49m\u001b[43m,\u001b[49m\n\u001b[1;32m    874\u001b[0m \u001b[43m        \u001b[49m\u001b[43mframework\u001b[49m\u001b[38;5;241;43m=\u001b[39;49m\u001b[43mframework\u001b[49m\u001b[43m,\u001b[49m\n\u001b[1;32m    875\u001b[0m \u001b[43m        \u001b[49m\u001b[43mtask\u001b[49m\u001b[38;5;241;43m=\u001b[39;49m\u001b[43mtask\u001b[49m\u001b[43m,\u001b[49m\n\u001b[1;32m    876\u001b[0m \u001b[43m        \u001b[49m\u001b[38;5;241;43m*\u001b[39;49m\u001b[38;5;241;43m*\u001b[39;49m\u001b[43mhub_kwargs\u001b[49m\u001b[43m,\u001b[49m\n\u001b[1;32m    877\u001b[0m \u001b[43m        \u001b[49m\u001b[38;5;241;43m*\u001b[39;49m\u001b[38;5;241;43m*\u001b[39;49m\u001b[43mmodel_kwargs\u001b[49m\u001b[43m,\u001b[49m\n\u001b[1;32m    878\u001b[0m \u001b[43m    \u001b[49m\u001b[43m)\u001b[49m\n\u001b[1;32m    880\u001b[0m model_config \u001b[38;5;241m=\u001b[39m model\u001b[38;5;241m.\u001b[39mconfig\n\u001b[1;32m    881\u001b[0m hub_kwargs[\u001b[38;5;124m\"\u001b[39m\u001b[38;5;124m_commit_hash\u001b[39m\u001b[38;5;124m\"\u001b[39m] \u001b[38;5;241m=\u001b[39m model\u001b[38;5;241m.\u001b[39mconfig\u001b[38;5;241m.\u001b[39m_commit_hash\n",
      "File \u001b[0;32m~/.pyenv/versions/3.11.0/envs/coverwallet/lib/python3.11/site-packages/transformers/pipelines/base.py:220\u001b[0m, in \u001b[0;36minfer_framework_load_model\u001b[0;34m(model, config, model_classes, task, framework, **model_kwargs)\u001b[0m\n\u001b[1;32m    194\u001b[0m \u001b[38;5;250m\u001b[39m\u001b[38;5;124;03m\"\"\"\u001b[39;00m\n\u001b[1;32m    195\u001b[0m \u001b[38;5;124;03mSelect framework (TensorFlow or PyTorch) to use from the `model` passed. Returns a tuple (framework, model).\u001b[39;00m\n\u001b[1;32m    196\u001b[0m \n\u001b[0;32m   (...)\u001b[0m\n\u001b[1;32m    217\u001b[0m \u001b[38;5;124;03m    `Tuple`: A tuple framework, model.\u001b[39;00m\n\u001b[1;32m    218\u001b[0m \u001b[38;5;124;03m\"\"\"\u001b[39;00m\n\u001b[1;32m    219\u001b[0m \u001b[38;5;28;01mif\u001b[39;00m \u001b[38;5;129;01mnot\u001b[39;00m is_tf_available() \u001b[38;5;129;01mand\u001b[39;00m \u001b[38;5;129;01mnot\u001b[39;00m is_torch_available():\n\u001b[0;32m--> 220\u001b[0m     \u001b[38;5;28;01mraise\u001b[39;00m \u001b[38;5;167;01mRuntimeError\u001b[39;00m(\n\u001b[1;32m    221\u001b[0m         \u001b[38;5;124m\"\u001b[39m\u001b[38;5;124mAt least one of TensorFlow 2.0 or PyTorch should be installed. \u001b[39m\u001b[38;5;124m\"\u001b[39m\n\u001b[1;32m    222\u001b[0m         \u001b[38;5;124m\"\u001b[39m\u001b[38;5;124mTo install TensorFlow 2.0, read the instructions at https://www.tensorflow.org/install/ \u001b[39m\u001b[38;5;124m\"\u001b[39m\n\u001b[1;32m    223\u001b[0m         \u001b[38;5;124m\"\u001b[39m\u001b[38;5;124mTo install PyTorch, read the instructions at https://pytorch.org/.\u001b[39m\u001b[38;5;124m\"\u001b[39m\n\u001b[1;32m    224\u001b[0m     )\n\u001b[1;32m    225\u001b[0m \u001b[38;5;28;01mif\u001b[39;00m \u001b[38;5;28misinstance\u001b[39m(model, \u001b[38;5;28mstr\u001b[39m):\n\u001b[1;32m    226\u001b[0m     model_kwargs[\u001b[38;5;124m\"\u001b[39m\u001b[38;5;124m_from_pipeline\u001b[39m\u001b[38;5;124m\"\u001b[39m] \u001b[38;5;241m=\u001b[39m task\n",
      "\u001b[0;31mRuntimeError\u001b[0m: At least one of TensorFlow 2.0 or PyTorch should be installed. To install TensorFlow 2.0, read the instructions at https://www.tensorflow.org/install/ To install PyTorch, read the instructions at https://pytorch.org/."
     ]
    }
   ],
   "source": [
    "summarizer = pipeline(\"summarization\", model=\"facebook/bart-large-cnn\")"
   ]
  },
  {
   "cell_type": "code",
   "execution_count": 15,
   "metadata": {},
   "outputs": [
    {
     "ename": "NameError",
     "evalue": "name 'summarizer' is not defined",
     "output_type": "error",
     "traceback": [
      "\u001b[0;31m---------------------------------------------------------------------------\u001b[0m",
      "\u001b[0;31mNameError\u001b[0m                                 Traceback (most recent call last)",
      "Cell \u001b[0;32mIn[15], line 1\u001b[0m\n\u001b[0;32m----> 1\u001b[0m \u001b[43msummarizer\u001b[49m(wkv1[\u001b[38;5;241m0\u001b[39m])\n",
      "\u001b[0;31mNameError\u001b[0m: name 'summarizer' is not defined"
     ]
    }
   ],
   "source": [
    "summarizer(wkv1[0])"
   ]
  }
 ],
 "metadata": {
  "kernelspec": {
   "display_name": "zrive-project",
   "language": "python",
   "name": "python3"
  },
  "language_info": {
   "codemirror_mode": {
    "name": "ipython",
    "version": 3
   },
   "file_extension": ".py",
   "mimetype": "text/x-python",
   "name": "python",
   "nbconvert_exporter": "python",
   "pygments_lexer": "ipython3",
   "version": "3.11.0"
  }
 },
 "nbformat": 4,
 "nbformat_minor": 2
}
