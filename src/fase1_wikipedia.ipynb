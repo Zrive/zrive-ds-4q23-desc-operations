{
 "cells": [
  {
   "cell_type": "markdown",
   "metadata": {},
   "source": [
    "# Fase1.- Formar BBDD\n",
    "\n",
    "## Wikipedia\n",
    "Vamos a probar a construir la descripcion mediante entradas de wikipedia. El punts fuerte de este metodo es que, en caso de encontrar un articulo de la empresa buscada, la informacion será objetiva, facil de obtener y de hacer un resumen. \n",
    "\n",
    "Buscaremos los articulos en ingles. Hay articulos que todavia no se han traducido y cabe la posibilidad que nuestra empresa (si es muy  nicho) tenga un articulo en su idioma nativo y no en EN. Adjunto dos links, en el primero hay articulos en cola de ser traducidos y en el segundo es una herramienta que encuentra atributos dentro de un articulo que no son en ingles (este te redirige a la BBDD de 'entities' de wikidata) (simplemente por si se decide explorarlos explorarlos):\n",
    "\n",
    "- https://not-in-the-other-language.toolforge.org/?lang1=de&proj1=wiki&lang2=en&proj2=wiki&cat=&depth=9&limit=100&starts_with=&start=100&targets=wikidata&doit=1\n",
    "\n",
    "- https://not-in-the-other-language.toolforge.org/?lang1=de&proj1=wiki&lang2=en&proj2=wiki&cat=&depth=9&limit=100&starts_with=&start=100&targets=wikidata&doit=1"
   ]
  },
  {
   "cell_type": "markdown",
   "metadata": {},
   "source": [
    "Podemos acceder de distinatas formas a la API de wikipedia (wikimedia). Con la URL o con la API envualta en la libreria *wikipedia*. Hay dos versiones de la AP disponibles, la --v 1.4.0 y la --v 0.6.0. Primero importaremos el POC"
   ]
  },
  {
   "cell_type": "code",
   "execution_count": 151,
   "metadata": {},
   "outputs": [
    {
     "name": "stdout",
     "output_type": "stream",
     "text": [
      "                           Company name                          Website  \\\n",
      "0                    Oakland University             https://oakland.edu/   \n",
      "1            TomTom North America, Inc.  https://www.tomtom.com/company/   \n",
      "2                                    3m              https://www.3m.com/   \n",
      "3                       DIVCON Controls      https://divconcontrols.com/   \n",
      "4  San Francisco Elevator Services Inc.              https://sfelev.com/   \n",
      "5      North Jersey Inspection Services                              NaN   \n",
      "6                         R Recruitment                              NaN   \n",
      "7                        Consume 4 Less                              NaN   \n",
      "8       SK and Company Accountants Ltd.                              NaN   \n",
      "9                        Themathsurgery       http://themathsurgery.com/   \n",
      "\n",
      "                                         Description  \n",
      "0  Oakland University harnesses the transformativ...  \n",
      "1  If you ever found yourself in a car in the nou...  \n",
      "2  3M touches virtually every part of your life. ...  \n",
      "3  At Divcon Controls, our mission is to provide ...  \n",
      "4  San Francisco Elevator Services, Inc., is an i...  \n",
      "5                                                NaN  \n",
      "6  Hire Your Next Candidate with R Recruitment Ag...  \n",
      "7                                                NaN  \n",
      "8  SK & Co is a Registered Accounting Services fi...  \n",
      "9  We are passionate about delivering high qualit...  \n"
     ]
    }
   ],
   "source": [
    "import pandas as pd\n",
    "\n",
    "ruta_csv = '../data/data.csv'\n",
    "df = pd.read_csv(ruta_csv, sep=',')\n",
    "print(df.head(10)) "
   ]
  },
  {
   "cell_type": "markdown",
   "metadata": {},
   "source": [
    "El primer problmea que encontramos es que en las busquedas de articlos en la API de wikipedia podremos obtener diversos resultados, de contenido completamente distinto. Sobre los titulos de los articulos podemos leer la info (se ve que se ordenan segun 'experienced editors'):\n",
    "\n",
    "- https://en.wikipedia.org/wiki/Wikipedia:Article_titles/Criteria_order\n",
    "\n",
    "Podemos ordenar las paginas con el parametro srsort de 'generator'"
   ]
  },
  {
   "cell_type": "code",
   "execution_count": 3,
   "metadata": {},
   "outputs": [
    {
     "name": "stdout",
     "output_type": "stream",
     "text": [
      "Zara  - Word count:  283\n",
      "Zara Hatke Zara Bachke  - Word count:  1736\n",
      "Zara (retailer)  - Word count:  4209\n",
      "Zara Larsson  - Word count:  5826\n",
      "Zara Tindall  - Word count:  3068\n",
      "Zara McDermott  - Word count:  1471\n",
      "Zara (name)  - Word count:  646\n",
      "Zara Larsson discography  - Word count:  3268\n",
      "Zara Home  - Word count:  124\n",
      "Zara, Turkey  - Word count:  166\n"
     ]
    }
   ],
   "source": [
    "import requests\n",
    "\n",
    "query = 'zara'\n",
    "url = 'https://en.wikipedia.org/w/api.php'\n",
    "params = {\n",
    "            'action':'query',\n",
    "            'format':'json',\n",
    "            'list':'search',\n",
    "            'utf8':1,\n",
    "            'srsearch':query\n",
    "        }\n",
    "\n",
    "data = requests.get(url, params=params).json() \n",
    "for i in data['query']['search']:\n",
    "    print(i['title'], ' - Word count: ', i['wordcount'])"
   ]
  },
  {
   "cell_type": "markdown",
   "metadata": {},
   "source": [
    "En la anterior querry buscamos 'zara' en el buscador de la API y aparecen todos los articulos diferentes. A nosotros nos interesa 'Zara (retailer)' pero a priori no podemos identificar sobre la lista de resultados cual es el que nos interesa, ya que en el .csv POC encontramos universidades, tiendas, ... y demás casuísticas que no podemos controlar."
   ]
  },
  {
   "cell_type": "markdown",
   "metadata": {},
   "source": [
    "Un walk around seria filtrar los articulos resultado por algunas categorias hardcodeadas. La api de wikipedia no permite hacer busquedas con una categoria como filtro y además wikimedia ha establecido toda una jerarquia de categorias, por lo que puede que la empresa a buscar esté en la categoria 'universidades de UK' y no en la categoria 'universidades' (pese a estar 'universidades de UK' dentro de la categoria de 'universidades', claro) \n",
    "\n",
    "Si que se podrian obtener todos los articulos existentes de la categoria (p.ej) 'Bussiness'. De nuevo, no tenemos total certeza que lo que se busquen sean negocios de esa categoria y tendriamos muchas instancias no utilizadas. \n",
    "\n",
    "El meta-parametro 'generator' determina que paginas queremos mostrar. Una idea: podria cruzarse la localizacion (coordenadas) de la empresa y el paremetro de generator: geosearch. Hay que explorarlo"
   ]
  },
  {
   "cell_type": "markdown",
   "metadata": {},
   "source": [
    "Ejemplo de un full search (texto de todas las entradas antes de la pruimera seccion, lo que se considera el Resumen de wikipedia) de 'Python'"
   ]
  },
  {
   "cell_type": "code",
   "execution_count": 60,
   "metadata": {},
   "outputs": [
    {
     "name": "stdout",
     "output_type": "stream",
     "text": [
      "Titulo: Ball python :\n",
      " The ball python (Python regius), also called the royal python, is a python species native to West and Central Africa, where it lives in grasslands, shrublands and open forests. This nonvenomous constrictor is the smallest of the African pythons, growing to a maximum length of 182 cm (72 in). The name \"ball python\" refers to its tendency to curl into a ball when stressed or frightened.\n",
      "\n",
      "\n",
      "Titulo: Burmese python :\n",
      " The Burmese python (Python bivittatus) is one of the largest species of snakes. It is native to a large area of Southeast Asia and is listed as Vulnerable on the IUCN Red List. Until 2009, it was considered a subspecies of the Indian python, but is now recognized as a distinct species. It is an invasive species in Florida as a result of the pet trade.\n",
      "\n",
      "\n",
      "Titulo: Colt Python :\n",
      " The Colt Python is a double action revolver chambered for the .357 Magnum cartridge. It was first introduced in 1955 by the Colt's Manufacturing Company. Pythons have a reputation for accuracy, smooth trigger pull, and a tight cylinder lock-up. Pythons, built on Colt's large I-frame, are similar in size and function to the Colt Trooper and  Colt Lawman revolvers.The Colt Python is intended for the premium revolver market segment. Official Colt historian R.L. Wilson described the Colt Python as \"the Rolls-Royce of Colt revolvers\", and firearms historian Ian V. Hogg referred to it as the \"best revolver in the world\".\n",
      "Some firearm collectors and writers such as Jeff Cooper and Ian V. Hogg have described the Python as \"the finest production revolver ever made\".\n",
      "\n",
      "\n",
      "Titulo: Monty Python :\n",
      " Monty Python (also collectively known as the Pythons) were a British comedy troupe formed in 1969 consisting of Graham Chapman, John Cleese, Terry Gilliam, Eric Idle, Terry Jones, and Michael Palin. The group came to prominence for the sketch comedy series Monty Python's Flying Circus, which aired on the BBC from 1969 to 1974. Their work then developed into a larger collection that included live shows, films, albums, books, and musicals; their influence on comedy has been compared to the Beatles' influence on music. Their sketch show has been called \"an important moment in the evolution of television comedy\".Monty Python's Flying Circus was loosely structured as a sketch show, but its innovative stream-of-consciousness approach and Gilliam's animation skills pushed the boundaries of what was acceptable in style and content. The Pythons had creative control which allowed them to experiment with form and content, discarding rules of television comedy. They followed their television work by making  the films Monty Python and the Holy Grail (1975), Life of Brian (1979), and The Meaning of Life (1983). Their influence on British comedy has been apparent for years, while it has coloured the work of the early editions of Saturday Night Live through to absurdist trends in television comedy.\n",
      "At the 41st British Academy Film Awards in 1988, Monty Python received the BAFTA Award for Outstanding British Contribution to Cinema. In 1998, they were awarded the AFI Star Award by the American Film Institute. Holy Grail and Life of Brian are frequently ranked on lists of the greatest comedy films. A 2005 poll asked more than 300 comedians, comedy writers, producers, and directors to name the greatest comedians of all time, and half of Monty Python's members made the top 50.\n",
      "\n",
      "\n",
      "Titulo: Python :\n",
      " Python may refer to:\n",
      "\n",
      "\n",
      "Titulo: Python (codename) :\n",
      " Python was a Cold War contingency plan of the British Government for the continuity of government in the event of nuclear war.\n",
      "Titulo: Python (missile) :\n",
      " The Rafael Python is a family of air-to-air missiles (AAMs) built by the Israeli weapons manufacturer Rafael Advanced Defense Systems, formerly RAFAEL Armament Development Authority. Originally starting with the Shafrir (Hebrew: שפריר, loosely translated as a dome, or a protective cloak – the Israeli military considers itself mostly defensive, but also similar sounding to Dragonfly, a male form of inflection for Damselfly (שפירית)) series, the Shafrir-1 missile was developed in 1959, followed by the Shafrir-2 in early 1970s. Subsequently, the missiles were given the western name of \"Python\" by the parent company for export purposes, starting with the Python-3 in 1978. Since then, it has been further developed and evolved into the Python-4, Python-5, Derby and also, the SPYDER, an advanced ground-based air-defence system. Currently, the missiles are in service with the armed forces of over fifteen countries from around the world.\n",
      "Titulo: Python (programming language) :\n",
      " Python is a high-level, general-purpose programming language. Its design philosophy emphasizes code readability with the use of significant indentation.Python is dynamically typed and garbage-collected. It supports multiple programming paradigms, including structured (particularly procedural), object-oriented and functional programming. It is often described as a \"batteries included\" language due to its comprehensive standard library.Guido van Rossum began working on Python in the late 1980s as a successor to the ABC programming language and first released it in 1991 as Python 0.9.0. Python 2.0 was released in 2000. Python 3.0, released in 2008, was a major revision not completely backward-compatible with earlier versions. Python 2.7.18, released in 2020, was the last release of Python 2.Python consistently ranks as one of the most popular programming languages.\n",
      "Titulo: Reticulated python :\n",
      " The reticulated python (Malayopython reticulatus) is a python species native to South and Southeast Asia. It is the world's longest snake, and the third heaviest after the green anaconda and Burmese python. It is listed as least concern on the IUCN Red List because of its wide distribution. In several countries in its range, it is hunted for its skin, for use in traditional medicine, and for sale as pets. Due to this, reticulated pythons are one of the most economically important reptiles worldwide.It is an excellent swimmer, has been reported far out at sea, and has colonized many small islands within its range.\n",
      "Like all pythons, it is a non-venomous constrictor. In very rare cases, adult humans have been killed (and in at least two reported cases, eaten) by reticulated pythons.\n",
      "Titulo: Setuptools :\n",
      " setuptools is a package development process library designed to facilitate packaging Python projects by enhancing the Python standard library distutils (distribution utilities). It includes:\n",
      "\n",
      "Python package and module definitions\n",
      "Distribution package metadata\n",
      "Test hooks\n",
      "Project installation\n",
      "Platform-specific details\n",
      "Python 3 support\n"
     ]
    }
   ],
   "source": [
    "import requests\n",
    " \n",
    "subject = 'Python'\n",
    "url = 'https://en.wikipedia.org/w/api.php'\n",
    "params = {\n",
    "        'origin':'*',\n",
    "        'action': 'query',\n",
    "        'format': 'json',\n",
    "        'prop': 'extracts',\n",
    "        'exintro': True,\n",
    "        'explaintext': True,\n",
    "        'generator': \"search\",\n",
    "        'gsrsearch': subject,\n",
    "        'gsrwhat':'text',\n",
    "        'gsrsort': 'relevance'\n",
    "    }\n",
    " \n",
    "response = requests.get(url, params=params)\n",
    "data = response.json()\n",
    "\n",
    "for i in data['query']['pages'].values():\n",
    "    print('Titulo:',i['title'],':\\n', i['extract'])"
   ]
  },
  {
   "cell_type": "markdown",
   "metadata": {},
   "source": [
    "### Full text de una pagina"
   ]
  },
  {
   "cell_type": "code",
   "execution_count": 49,
   "metadata": {},
   "outputs": [
    {
     "name": "stdout",
     "output_type": "stream",
     "text": [
      "\n",
      "Python is a high-level, general-purpose programming language. Its design philosophy emphasizes code readability with the use of significant indentation.[31]\n",
      "Python is dynamically typed and garbage-collected. It supports multiple programming paradigms, including structured (particularly procedural), object-oriented and functional programming. It is often described as a \"batteries included\" language due to its comprehensive standard library.[32][33]\n",
      "Guido van Rossum began working on Python in the late 1980s as a successor to the ABC programming language and first released it in 1991 as Python 0.9.0.[34] Python 2.0 was released in 2000. Python 3.0, released in 2008, was a major revision not completely backward-compatible with earlier versions. Python 2.7.18, released in 2020, was the last release of Python 2.[35]\n",
      "Python consistently ranks as one of the most popular programming languages.[36][37][38][39]\n",
      "Python was conceived in the late 1980s[40] by Guido van Rossum at Centrum Wiskunde & \n",
      "Text length:  26570\n"
     ]
    }
   ],
   "source": [
    "from bs4 import BeautifulSoup\n",
    " \n",
    "subject = 'Python (programming language)'\n",
    " \n",
    "url = 'https://en.wikipedia.org/w/api.php'\n",
    "params = {\n",
    "            'action': 'parse',\n",
    "            'page': subject,\n",
    "            'format': 'json',\n",
    "            'prop':'text',\n",
    "            'redirects':''\n",
    "        }\n",
    " \n",
    "response = requests.get(url, params=params)\n",
    "data = response.json()\n",
    " \n",
    "raw_html = data['parse']['text']['*']\n",
    "soup = BeautifulSoup(raw_html,'html.parser')\n",
    "soup.find_all('p')\n",
    "text = ''\n",
    " \n",
    "for p in soup.find_all('p'):\n",
    "    text += p.text\n",
    " \n",
    "print(text[:1000])\n",
    "print('Text length: ', len(text))"
   ]
  },
  {
   "cell_type": "markdown",
   "metadata": {},
   "source": [
    "# Wikidata"
   ]
  },
  {
   "cell_type": "code",
   "execution_count": 10,
   "metadata": {},
   "outputs": [
    {
     "name": "stdout",
     "output_type": "stream",
     "text": [
      "{'error': {'code': 'badvalue', 'info': 'Unrecognized value for parameter \"action\": wbsearchentities.', '*': 'See https://en.wikipedia.org/w/api.php for API usage. Subscribe to the mediawiki-api-announce mailing list at &lt;https://lists.wikimedia.org/postorius/lists/mediawiki-api-announce.lists.wikimedia.org/&gt; for notice of API deprecations and breaking changes.'}, 'servedby': 'mw-api-ext.eqiad.main-675759d54b-hsss7'}\n"
     ]
    }
   ],
   "source": [
    "import requests\n",
    " \n",
    "subject = 'Python'\n",
    "url = 'https://en.wikipedia.org/w/api.php'\n",
    "query = \"wikipedia\"\n",
    "params = {\n",
    "    'action': 'wbsearchentities',\n",
    "    'format': 'json',\n",
    "    'language': 'en',\n",
    "    'search': query\n",
    "    }\n",
    " \n",
    "response = requests.get(url, params=params)\n",
    "data = response.json()\n",
    "print(data)\n",
    "# page = next(iter(data['query']['pages'].values()))\n",
    "# print(page['extract'][:73])"
   ]
  },
  {
   "cell_type": "markdown",
   "metadata": {},
   "source": [
    "## Extra"
   ]
  },
  {
   "cell_type": "markdown",
   "metadata": {},
   "source": [
    "A priorio solo querríamos obtener el summary de una pagina o su texto al completo. Con las siguientes funciones podemos obtener texto por las secciones definidas de una pagina "
   ]
  },
  {
   "cell_type": "code",
   "execution_count": 12,
   "metadata": {},
   "outputs": [],
   "source": [
    "import wikipediaapi\n",
    "def get_sections(\n",
    "     section: wikipediaapi.WikipediaPageSection,\n",
    "     parent_title: list[str],\n",
    "     sections_to_ignore: set[str]\n",
    "     ) -> list[tuple[list[str],str]]:\n",
    "    \n",
    "     \"\"\"Gather sections and subsections data.\"\"\"\n",
    "    \n",
    "     sect_title = section.title \n",
    "     title = parent_title\n",
    "     title.extend([sect_title])\n",
    "     results = []\n",
    "     \n",
    "     if sect_title not in sections_to_ignore:\n",
    "       sect_text = section.text \n",
    "       string_section = ( title , sect_text)\n",
    "       results.extend([string_section])\n",
    "  \n",
    "       if len(section.sections)>1:\n",
    "         for subsection in section.sections:\n",
    "           get_sections(subsection, title, sections_to_ignore) \n",
    "\n",
    "     return results\n",
    "\n",
    "def get_pages (\n",
    "     page: wikipediaapi.WikipediaPage,\n",
    "     sections_to_ignore: set[str]\n",
    "     )-> list[tuple[list[str],str]]:\n",
    "\n",
    "     \"\"\"Gather the page information: title and summary, and then go deep in sections information.\"\"\"\n",
    "   \n",
    "     parent_title = page.title\n",
    "     print(f\"parent_title = {parent_title} \")\n",
    "\n",
    "     summary = page.summary\n",
    "     string_parent = ([parent_title], summary)\n",
    "     results=[string_parent]\n",
    "     \n",
    "     if len(page.sections) > 0:\n",
    "       for section in page.sections:\n",
    "         results.extend(get_sections(section,[parent_title], sections_to_ignore))\n",
    "    \n",
    "     return results"
   ]
  },
  {
   "cell_type": "code",
   "execution_count": 18,
   "metadata": {},
   "outputs": [
    {
     "name": "stdout",
     "output_type": "stream",
     "text": [
      "Name:  {'2022 FIFA World Cup': 2022 FIFA World Cup (id: ??, ns: 0), '2015 FIFA corruption case': 2015 FIFA corruption case (id: ??, ns: 0), '2022 FIFA World Cup opening ceremony': 2022 FIFA World Cup opening ceremony (id: ??, ns: 0), 'Adidas Al Rihla': Adidas Al Rihla (id: ??, ns: 0), 'Allegations of corruption and bribery related to the 2022 FIFA World Cup': Allegations of corruption and bribery related to the 2022 FIFA World Cup (id: ??, ns: 0), 'Battle of Lusail': Battle of Lusail (id: ??, ns: 0), '2018 and 2022 FIFA World Cup bids': 2018 and 2022 FIFA World Cup bids (id: ??, ns: 0), '2022 FIFA World Cup broadcasting rights': 2022 FIFA World Cup broadcasting rights (id: ??, ns: 0), \"Criticisms of Qatar's suitability to host the 2022 FIFA World Cup\": Criticisms of Qatar's suitability to host the 2022 FIFA World Cup (id: ??, ns: 0), 'List of 2022 FIFA World Cup controversies': List of 2022 FIFA World Cup controversies (id: ??, ns: 0), 'Dreamers (Jungkook song)': Dreamers (Jungkook song) (id: ??, ns: 0), 'FIFA World Cup Qatar 2022 Official Soundtrack': FIFA World Cup Qatar 2022 Official Soundtrack (id: ??, ns: 0), '2022 FIFA World Cup final': 2022 FIFA World Cup final (id: ??, ns: 0), 'Garcia Report': Garcia Report (id: ??, ns: 0), '2022 FIFA World Cup Group A': 2022 FIFA World Cup Group A (id: ??, ns: 0), '2022 FIFA World Cup Group B': 2022 FIFA World Cup Group B (id: ??, ns: 0), '2022 FIFA World Cup Group C': 2022 FIFA World Cup Group C (id: ??, ns: 0), '2022 FIFA World Cup Group D': 2022 FIFA World Cup Group D (id: ??, ns: 0), '2022 FIFA World Cup Group E': 2022 FIFA World Cup Group E (id: ??, ns: 0), '2022 FIFA World Cup Group F': 2022 FIFA World Cup Group F (id: ??, ns: 0), '2022 FIFA World Cup Group G': 2022 FIFA World Cup Group G (id: ??, ns: 0), '2022 FIFA World Cup Group H': 2022 FIFA World Cup Group H (id: ??, ns: 0), 'Hayya Hayya (Better Together)': Hayya Hayya (Better Together) (id: ??, ns: 0), '2022 FIFA World Cup knockout stage': 2022 FIFA World Cup knockout stage (id: ??, ns: 0), \"La'eeb\": La'eeb (id: ??, ns: 0), 'Ghanim Al-Muftah': Ghanim Al-Muftah (id: ??, ns: 0), '2022 FIFA World Cup officials': 2022 FIFA World Cup officials (id: ??, ns: 0), '2022 FIFA World Cup qualification': 2022 FIFA World Cup qualification (id: ??, ns: 0), '2022 FIFA World Cup seeding': 2022 FIFA World Cup seeding (id: ??, ns: 0), '2022 FIFA World Cup squads': 2022 FIFA World Cup squads (id: ??, ns: 0), 'Hassan Al-Thawadi': Hassan Al-Thawadi (id: ??, ns: 0), 'Tukoh Taka': Tukoh Taka (id: ??, ns: 0), 'The Workers Cup': The Workers Cup (id: ??, ns: 0), 'Category:2022 FIFA World Cup bids': Category:2022 FIFA World Cup bids (id: ??, ns: 14), 'Category:2022 FIFA World Cup controversies': Category:2022 FIFA World Cup controversies (id: ??, ns: 14), 'Category:Countries at the 2022 FIFA World Cup': Category:Countries at the 2022 FIFA World Cup (id: ??, ns: 14), 'Category:2022 FIFA World Cup managers': Category:2022 FIFA World Cup managers (id: ??, ns: 14), 'Category:2022 FIFA World Cup players': Category:2022 FIFA World Cup players (id: ??, ns: 14), 'Category:2022 FIFA World Cup qualification': Category:2022 FIFA World Cup qualification (id: ??, ns: 14), 'Category:2022 FIFA World Cup referees': Category:2022 FIFA World Cup referees (id: ??, ns: 14), 'Category:2022 FIFA World Cup stadiums': Category:2022 FIFA World Cup stadiums (id: ??, ns: 14), 'Category:2022 FIFA World Cup templates': Category:2022 FIFA World Cup templates (id: ??, ns: 14), 'File:2022 FIFA World Cup.svg': File:2022 FIFA World Cup.svg (id: ??, ns: 6)}\n",
      "parent_title = 2022 FIFA World Cup \n",
      "parent_title = 2015 FIFA corruption case \n",
      "parent_title = 2022 FIFA World Cup opening ceremony \n",
      "parent_title = Adidas Al Rihla \n",
      "parent_title = Allegations of corruption and bribery related to the 2022 FIFA World Cup \n",
      "parent_title = Battle of Lusail \n",
      "parent_title = 2018 and 2022 FIFA World Cup bids \n",
      "parent_title = 2022 FIFA World Cup broadcasting rights \n",
      "parent_title = Criticisms of Qatar's suitability to host the 2022 FIFA World Cup \n",
      "parent_title = List of 2022 FIFA World Cup controversies \n",
      "parent_title = Dreamers (Jungkook song) \n",
      "parent_title = FIFA World Cup Qatar 2022 Official Soundtrack \n",
      "parent_title = 2022 FIFA World Cup final \n",
      "parent_title = Garcia Report \n",
      "parent_title = 2022 FIFA World Cup Group A \n",
      "parent_title = 2022 FIFA World Cup Group B \n",
      "parent_title = 2022 FIFA World Cup Group C \n",
      "parent_title = 2022 FIFA World Cup Group D \n",
      "parent_title = 2022 FIFA World Cup Group E \n",
      "parent_title = 2022 FIFA World Cup Group F \n",
      "parent_title = 2022 FIFA World Cup Group G \n",
      "parent_title = 2022 FIFA World Cup Group H \n",
      "parent_title = Hayya Hayya (Better Together) \n",
      "parent_title = 2022 FIFA World Cup knockout stage \n",
      "parent_title = La'eeb \n",
      "parent_title = Ghanim Al-Muftah \n",
      "parent_title = 2022 FIFA World Cup officials \n",
      "parent_title = 2022 FIFA World Cup qualification \n",
      "parent_title = 2022 FIFA World Cup seeding \n",
      "parent_title = 2022 FIFA World Cup squads \n",
      "parent_title = Hassan Al-Thawadi \n",
      "parent_title = Tukoh Taka \n",
      "parent_title = The Workers Cup \n"
     ]
    },
    {
     "data": {
      "text/plain": [
       "[(['2022 FIFA World Cup'],\n",
       "  \"The 2022 FIFA World Cup was the 22nd FIFA World Cup, the world championship for national football teams organized by FIFA. It took place in Qatar from 20 November to 18 December 2022, after the country was awarded the hosting rights in 2010. It was the first World Cup to be held in the Arab world and Muslim world, and the second held entirely in Asia after the 2002 tournament in South Korea and Japan.This tournament was the last with 32 participating teams, with the number of teams being increased to 48 for the 2026 edition. To avoid the extremes of Qatar's hot climate, the event was held during November and December instead of in the traditional months of May, June, or July. It was held over a reduced time frame of 29 days with 64 matches played in eight venues across five cities. Qatar entered the event—their first World Cup—automatically as the host's national team, alongside 31 teams determined by the qualification process.\\nArgentina were crowned the champions after winning the final against the title holder France 4–2 on penalties following a 3–3 draw after extra time. It was Argentina's third title and their first since 1986, as well as being the first nation from outside of Europe to win the tournament since 2002. French player Kylian Mbappé became the first player to score a hat-trick in a World Cup final since Geoff Hurst in the 1966 final and won the Golden Boot as he scored the most goals (eight) during the tournament. Argentine captain Lionel Messi was voted the tournament's best player, winning the Golden Ball. The tournament has been considered exceptionally poetic as the capstone of his career, for some commentators fulfilling a previously unmet criterion to be regarded the greatest player of all time. Teammates Emiliano Martínez and Enzo Fernández won the Golden Glove, awarded to the tournament's best goalkeeper; and the Young Player Award, awarded to the tournament's best young player, respectively. With 172 goals, the tournament set a record for the highest number of goals scored in the 32-team format, with every participating team scoring at least one goal.\\nThe choice to host the World Cup in Qatar attracted significant criticism, with concerns raised over the country's treatment of migrant workers, women and members of the LGBT community, as well as Qatar's climate, lack of a strong football culture, scheduling changes, and allegations of bribery for hosting rights and wider FIFA corruption.\"),\n",
       " (['2022 FIFA World Cup', 'Format', 'Schedule', 'Prize money', 'Rule changes'],\n",
       "  'The FIFA World Cup is a professional football tournament held between national football teams, organised by FIFA. The tournament, held every four years, was first played in 1930 in Uruguay, and has been contested by 32 teams since the 1998 event. The tournament was contested with eight round-robin groups followed by a knockout round for 16 teams. The defending champions were France, who defeated Croatia 4–2 in the 2018 FIFA World Cup Final. The event was scheduled to take place under a reduced length, from 20 November to 18 December in Qatar. Being held in Qatar, it was the first World Cup tournament to be held in the Arab world. Spectators were not required to follow most COVID-19 pandemic restrictions such as social distancing, wearing masks, and negative tests.'),\n",
       " (['2022 FIFA World Cup', 'Host selection'],\n",
       "  'The bidding procedure to host the 2018 and 2022 FIFA World Cups began in January 2009. National associations had until 2 February 2009 to register interest. Initially, 11 bids were made for the 2018 FIFA World Cup, but Mexico withdrew from proceedings, and Indonesia\\'s bid was rejected by FIFA in February 2010 after the Indonesian Football Association failed to submit a letter of Indonesian government guarantee to support the bid.After UEFA were guaranteed to host the 2018 event, members of UEFA were no longer in contention to host in 2022. There were five bids remaining for the 2022 FIFA World Cup: Australia, Japan, Qatar, South Korea, and the United States.\\nThe 22-member FIFA Executive Committee convened in Zürich, Switzerland, on 2 December 2010 to vote to select the hosts of both tournaments. Two FIFA executive committee members were suspended before the vote in relation to allegations of corruption regarding their votes. The decision to host the 2022 World Cup in Qatar, which was graded as having \"high operational risk\", generated criticism from media commentators. It was criticised by many as being part of the FIFA corruption scandals, which led to the 2015 FIFA corruption case.\\nThe voting patterns were as follows:'),\n",
       " (['2022 FIFA World Cup', 'Venues', 'Stadiums', 'Security'],\n",
       "  \"The first five proposed venues for the World Cup were unveiled at the beginning of March 2010. Qatar intended that the stadiums should reflect its history and culture, and for the designs to meet the following terms of reference: legacy, comfort, accessibility, and sustainability. The stadiums were equipped with cooling systems that aim to reduce temperatures within the stadium by up to 20 °C (36 °F).Their marketing included statements describing the stadiums as zero waste, and the upper tiers of the stadiums will be disassembled after the World Cup and donated to countries with less developed sports infrastructure. Qatar aspired to be compliant and certified by the Global Sustainability Assessment System (GSAS) for all the World Cup stadiums. All of the five stadium projects launched were designed by German architect Albert Speer & Partners. The Al Bayt and Al Wakrah stadiums were the only indoor stadiums of the eight used.\\nIn an April 2013 report by Merrill Lynch, the organisers in Qatar requested that FIFA approve a smaller number of stadiums due to the growing costs. Bloomberg said that Qatar wished to cut the number of venues to eight or nine from the twelve originally planned. By April 2017, FIFA had yet to finalise the number of stadiums Qatar must have readied in five years' time. Qatar's Supreme Committee for Delivery and Legacy (SC) said it expected there would be eight in and near Doha, with the exception of Al Khor.Stadium 974, formerly known as the Ras Abu Aboud Stadium, was the seventh FIFA World Cup 2022 venue to be completed by the SC. Its name comes from the number of shipping containers used in its construction and Qatar's international dialling code. The venue will be dismantled completely after the tournament—this stadium was the first temporary stadium ever used for a FIFA World Cup. All of the other stadiums used except Khalifa International were reduced in capacity by half.\"),\n",
       " (['2022 FIFA World Cup', 'Teams', 'Qualification', 'Squads', 'Draw'], '')]"
      ]
     },
     "execution_count": 18,
     "metadata": {},
     "output_type": "execute_result"
    }
   ],
   "source": [
    "SECTIONS_TO_IGNORE = [\n",
    " \"See also\", \"References\", \"External links\",\n",
    " \"Further reading\", \"Footnotes\", \"Bibliography\",\n",
    " \"Sources\", \"Citations\", \"Literature\",\n",
    " \"Photo gallery\", \"Photos\", \"Gallery\",\n",
    " \"Works cited\", \"Notes\", \"Notes and references\",\n",
    " \"References and sources\", \"References and notes\",\n",
    "]\n",
    "wiki = wikipediaapi.Wikipedia('ExtractBussinesInfo (ramoncormo8@gmial.com)', language='en')\n",
    "CATEGORY_TITLE = \"Category:2022 FIFA World Cup\"\n",
    "\n",
    "# Get the category object for \"2022 FIFA World Cup\"\n",
    "cat = wiki.page(CATEGORY_TITLE)\n",
    "\n",
    "# Print the name of the category\n",
    "print(\"Name: \", cat.categorymembers)\n",
    "# Get the articles included in this category\n",
    "# # if it's an article: wikipediaapi.Namespace.MAIN = 0\n",
    "# # if it's a subcategory: wikipediaapi.Namespace.CATEGORY = 14\n",
    "articles = [w for w in cat.categorymembers.values() if w.ns == wikipediaapi.Namespace.MAIN]\n",
    "\n",
    "wiki_corpus=[]\n",
    "for page in articles:\n",
    "    wiki_corpus.extend(get_pages(page, SECTIONS_TO_IGNORE))\n",
    "\n",
    "wiki_corpus[:5]"
   ]
  },
  {
   "cell_type": "markdown",
   "metadata": {},
   "source": [
    "## Funcion para parsear respuestas"
   ]
  },
  {
   "cell_type": "markdown",
   "metadata": {},
   "source": [
    "He tomado estas decisiones (a priori): Usar el endpoint URL y la libreria wikipedia --v 1.4.0 para el suggest; Si hay mas de una respeusta coger la info de la primera respuesta con un '**WARNING - need to check veracity**' al principio (hay que mirar mas a fondo el parametro gsrsort o alguno de sorting); Si no hay articulos relacionados al input, aplica la funcion suggest de la libreria wikipedia-api y vuelve a probar; Si no hay respuesta devuelve: 'No content'\n",
    "\n",
    "Caveats: hay que definir dos veces los parametros, ya que sino no funciona (una cosa es buscar los titulos y otra es buscar el abstract de un titulo en concreto)"
   ]
  },
  {
   "cell_type": "code",
   "execution_count": 86,
   "metadata": {},
   "outputs": [
    {
     "name": "stdout",
     "output_type": "stream",
     "text": [
      "None\n"
     ]
    }
   ],
   "source": [
    "import wikipedia\n",
    "print(wikipedia.suggest(\"qwerqwecq\"))"
   ]
  },
  {
   "cell_type": "code",
   "execution_count": 67,
   "metadata": {},
   "outputs": [
    {
     "name": "stdout",
     "output_type": "stream",
     "text": [
      "Python may refer to:\n",
      "\n",
      "\n",
      "dict_keys(['46332325'])\n"
     ]
    }
   ],
   "source": [
    "subject = 'Python'\n",
    "url = 'https://en.wikipedia.org/w/api.php'\n",
    "params = {\n",
    "            'action':'query',\n",
    "            'format':'json',\n",
    "            'list':'search',\n",
    "            'utf8':1,\n",
    "            'srsearch':query\n",
    "        }\n",
    " \n",
    "response = requests.get(url, params=params)\n",
    "data = response.json()\n",
    " \n",
    "page = next(iter(data['query']['pages'].values()))\n",
    "print(page['extract'])\n",
    "print(dict(data['query']['pages']).keys())"
   ]
  },
  {
   "cell_type": "code",
   "execution_count": 98,
   "metadata": {},
   "outputs": [
    {
     "name": "stdout",
     "output_type": "stream",
     "text": [
      "{'batchcomplete': '', 'continue': {'gsroffset': 10, 'continue': 'gsroffset||'}, 'warnings': {'extracts': {'*': 'HTML may be malformed and/or unbalanced and may omit inline images. Use at your own risk. Known problems are listed at https://www.mediawiki.org/wiki/Special:MyLanguage/Extension:TextExtracts#Caveats.'}}, 'query': {'pages': {'271890': {'pageid': 271890, 'ns': 0, 'title': 'Ball python', 'index': 4, 'extract': '<p class=\"mw-empty-elt\">\\n\\n\\n</p>\\n<p>The <b>ball python</b> (<i><b>Python regius</b></i>), also called the <b>royal python</b>, is a python species native to West and Central Africa, where it lives in grasslands, shrublands and open forests. This nonvenomous constrictor is the smallest of the African pythons, growing to a maximum length of 182\\xa0cm (72\\xa0in). The name \"ball python\" refers to its tendency to curl into a ball when stressed or frightened.</p>\\n\\n\\n'}, '819149': {'pageid': 819149, 'ns': 0, 'title': 'Burmese python', 'index': 6, 'extract': '<p class=\"mw-empty-elt\">\\n</p>\\n\\n<p class=\"mw-empty-elt\">\\n</p>\\n<p>The <b>Burmese python</b> (<i><b>Python bivittatus</b></i>) is one of the largest species of snakes. It is native to a large area of Southeast Asia and is listed as Vulnerable on the IUCN Red List. Until 2009, it was considered a subspecies of the Indian python, but is now recognized as a distinct species. It is an invasive species in Florida as a result of the pet trade.</p>\\n\\n\\n'}, '639888': {'pageid': 639888, 'ns': 0, 'title': 'Colt Python', 'index': 10, 'extract': '<p class=\"mw-empty-elt\">\\n</p>\\n<p><br>\\nThe <b>Colt Python</b> is a double action revolver chambered for the .357 Magnum cartridge. It was first introduced in 1955 by the Colt\\'s Manufacturing Company. </p><p>Pythons have a reputation for accuracy, smooth trigger pull, and a tight cylinder lock-up. Pythons, built on Colt\\'s large I-frame, are similar in size and function to the Colt Trooper and  Colt Lawman revolvers.</p><p>The Colt Python is intended for the premium revolver market segment. Official Colt historian R.L. Wilson described the Colt Python as \"the Rolls-Royce of Colt revolvers\", and firearms historian Ian V. Hogg referred to it as the \"best revolver in the world\".\\nSome firearm collectors and writers such as Jeff Cooper and Ian V. Hogg have described the Python as \"the finest production revolver ever made\".</p><p><br></p>'}, '18942': {'pageid': 18942, 'ns': 0, 'title': 'Monty Python', 'index': 3, 'extract': '<link rel=\"mw-deduplicated-inline-style\" href=\"mw-data:TemplateStyles:r1033289096\">\\n<link rel=\"mw-deduplicated-inline-style\" href=\"mw-data:TemplateStyles:r1033289096\">\\n<p class=\"mw-empty-elt\">\\n\\n</p>\\n<p><b>Monty Python</b> (also collectively known as <b>the Pythons</b>) were a British comedy troupe formed in 1969 consisting of Graham Chapman, John Cleese, Terry Gilliam, Eric Idle, Terry Jones, and Michael Palin. The group came to prominence for the sketch comedy series <i>Monty Python\\'s Flying Circus</i>, which aired on the BBC from 1969 to 1974. Their work then developed into a larger collection that included live shows, films, albums, books, and musicals; their influence on comedy has been compared to the Beatles\\' influence on music. Their sketch show has been called \"an important moment in the evolution of television comedy\".</p><p><i>Monty Python\\'s Flying Circus</i> was loosely structured as a sketch show, but its innovative stream-of-consciousness approach and Gilliam\\'s animation skills pushed the boundaries of what was acceptable in style and content. The Pythons had creative control which allowed them to experiment with form and content, discarding rules of television comedy. They followed their television work by making  the films <i>Monty Python and the Holy Grail</i> (1975), <i>Life of Brian</i> (1979), and <i>The Meaning of Life</i> (1983). Their influence on British comedy has been apparent for years, while it has coloured the work of the early editions of <i>Saturday Night Live</i> through to absurdist trends in television comedy.\\n</p><p>At the 41st British Academy Film Awards in 1988, Monty Python received the BAFTA Award for Outstanding British Contribution to Cinema. In 1998, they were awarded the AFI Star Award by the American Film Institute. <i>Holy Grail</i> and <i>Life of Brian</i> are frequently ranked on lists of the greatest comedy films. A 2005 poll asked more than 300 comedians, comedy writers, producers, and directors to name the greatest comedians of all time, and half of Monty Python\\'s members made the top 50.</p>\\n\\n\\n'}, '46332325': {'pageid': 46332325, 'ns': 0, 'title': 'Python', 'index': 1, 'extract': '<p><b>Python</b> may refer to:\\n</p>'}, '53672527': {'pageid': 53672527, 'ns': 0, 'title': 'Python (codename)', 'index': 5, 'extract': '<p class=\"mw-empty-elt\">\\n</p>\\n\\n<p><b>Python</b> was a Cold War contingency plan of the British Government for the continuity of government in the event of nuclear war.\\n</p>'}, '317752': {'pageid': 317752, 'ns': 0, 'title': 'Python (missile)', 'index': 9, 'extract': '<p>The Rafael <b>Python</b> is a family of air-to-air missiles (AAMs) built by the Israeli weapons manufacturer Rafael Advanced Defense Systems, formerly RAFAEL Armament Development Authority. Originally starting with the <i>Shafrir</i> (Hebrew: <span lang=\"he\" dir=\"rtl\">שפריר</span>, loosely translated as a dome, or a protective cloak – the Israeli military considers itself mostly defensive, but also similar sounding to Dragonfly, a male form of inflection for Damselfly (שפירית)) series, the <i>Shafrir-1</i> missile was developed in 1959, followed by the <i>Shafrir-2</i> in early 1970s. Subsequently, the missiles were given the western name of \"<i>Python</i>\" by the parent company for export purposes, starting with the <i>Python-3</i> in 1978. Since then, it has been further developed and evolved into the <i>Python-4</i>, <i>Python-5</i>, <i>Derby</i> and also, the SPYDER, an advanced ground-based air-defence system. Currently, the missiles are in service with the armed forces of over fifteen countries from around the world.\\n</p>'}, '23862': {'pageid': 23862, 'ns': 0, 'title': 'Python (programming language)', 'index': 2, 'extract': '<p class=\"mw-empty-elt\">\\n\\n</p>\\n<p><b>Python</b> is a high-level, general-purpose programming language. Its design philosophy emphasizes code readability with the use of significant indentation.</p><p>Python is dynamically typed and garbage-collected. It supports multiple programming paradigms, including structured (particularly procedural), object-oriented and functional programming. It is often described as a \"batteries included\" language due to its comprehensive standard library.</p><p>Guido van Rossum began working on Python in the late 1980s as a successor to the ABC programming language and first released it in 1991 as Python\\xa00.9.0. Python\\xa02.0 was released in 2000. Python\\xa03.0, released in 2008, was a major revision not completely backward-compatible with earlier versions. Python\\xa02.7.18, released in 2020, was the last release of Python\\xa02.</p><p>Python consistently ranks as one of the most popular programming languages.</p>'}, '88595': {'pageid': 88595, 'ns': 0, 'title': 'Reticulated python', 'index': 7, 'extract': '<p class=\"mw-empty-elt\">\\n</p>\\n<p>The <b>reticulated python</b> (<i><b>Malayopython reticulatus</b></i>) is a python species native to South and Southeast Asia. It is the world\\'s longest snake, and the third heaviest after the green anaconda and Burmese python. It is listed as least concern on the IUCN Red List because of its wide distribution. In several countries in its range, it is hunted for its skin, for use in traditional medicine, and for sale as pets. Due to this, reticulated pythons are one of the most economically important reptiles worldwide.</p><p>It is an excellent swimmer, has been reported far out at sea, and has colonized many small islands within its range.\\n</p><p>Like all pythons, it is a non-venomous constrictor. In very rare cases, adult humans have been killed (and in at least two reported cases, eaten) by reticulated pythons.</p>'}, '24193838': {'pageid': 24193838, 'ns': 0, 'title': 'Setuptools', 'index': 8, 'extract': '<p><b>setuptools</b> is a package development process library designed to facilitate packaging Python projects by enhancing the Python standard library <span>distutils</span> (distribution utilities). It includes:\\n</p>\\n<ul><li>Python package and module definitions</li>\\n<li>Distribution package metadata</li>\\n<li>Test hooks</li>\\n<li>Project installation</li>\\n<li>Platform-specific details</li>\\n<li>Python 3 support</li></ul>\\n\\n'}}}}\n"
     ]
    }
   ],
   "source": [
    "import requests\n",
    "\n",
    "query = 'Zara (retailer)'\n",
    "url = 'https://en.wikipedia.org/w/api.php'\n",
    "params = {\n",
    "            'action':'query',\n",
    "            'format':'json',\n",
    "            'generator': \"search\",\n",
    "            'utf8':1,\n",
    "            'gsrsearch': subject,\n",
    "            'prop': 'extracts',\n",
    "            'exintro': True,\n",
    "        }\n",
    "\n",
    "data = requests.get(url, params=params).json() \n",
    "print(data)\n",
    "# for i in data['query']['search']:\n",
    "#     print(i['title'])"
   ]
  },
  {
   "cell_type": "code",
   "execution_count": 150,
   "metadata": {},
   "outputs": [
    {
     "name": "stdout",
     "output_type": "stream",
     "text": [
      "The ball python (Python regius), also called the royal python, is a python species native to West and Central Africa, where it lives in grasslands, shrublands and open forests. This nonvenomous constrictor is the smallest of the African pythons, growing to a maximum length of 182 cm (72 in). The name \"ball python\" refers to its tendency to curl into a ball when stressed or frightened.\n",
      "\n",
      "\n",
      "{'pageid': 271890, 'ns': 0, 'title': 'Ball python', 'index': 5, 'extract': 'The ball python (Python regius), also called the royal python, is a python species native to West and Central Africa, where it lives in grasslands, shrublands and open forests. This nonvenomous constrictor is the smallest of the African pythons, growing to a maximum length of 182 cm (72 in). The name \"ball python\" refers to its tendency to curl into a ball when stressed or frightened.\\n\\n'}\n",
      "{'pageid': 819149, 'ns': 0, 'title': 'Burmese python', 'index': 6}\n",
      "{'pageid': 639888, 'ns': 0, 'title': 'Colt Python', 'index': 10}\n",
      "{'pageid': 18942, 'ns': 0, 'title': 'Monty Python', 'index': 3}\n",
      "{'pageid': 46332325, 'ns': 0, 'title': 'Python', 'index': 1}\n",
      "{'pageid': 53672527, 'ns': 0, 'title': 'Python (codename)', 'index': 4}\n",
      "{'pageid': 317752, 'ns': 0, 'title': 'Python (missile)', 'index': 9}\n",
      "{'pageid': 23862, 'ns': 0, 'title': 'Python (programming language)', 'index': 2}\n",
      "{'pageid': 88595, 'ns': 0, 'title': 'Reticulated python', 'index': 7}\n",
      "{'pageid': 24193838, 'ns': 0, 'title': 'Setuptools', 'index': 8}\n"
     ]
    }
   ],
   "source": [
    "import requests\n",
    "\n",
    "subject = 'Python'\n",
    "url = 'https://en.wikipedia.org/w/api.php'\n",
    "params = {\n",
    "        'origin':'*',\n",
    "        'action': 'query',\n",
    "        'format': 'json',\n",
    "        'prop': 'extracts',\n",
    "        'exintro': True,\n",
    "        'explaintext': True,\n",
    "        'exlimit': 1,\n",
    "        \"redirects\": 1,\n",
    "        'generator': \"search\",\n",
    "        'gsrsearch': subject,\n",
    "    }\n",
    " \n",
    "response = requests.get(url, params=params)\n",
    "data = response.json()\n",
    "print(list(data['query']['pages'].values())[0]['extract'])\n",
    "for i in data['query']['pages'].values():\n",
    "    print(i)\n",
    "    #print('Titulo:',i['title'],':\\n', i['extract'])"
   ]
  },
  {
   "cell_type": "code",
   "execution_count": 143,
   "metadata": {},
   "outputs": [
    {
     "name": "stdout",
     "output_type": "stream",
     "text": [
      "Debian releases do not follow a fixed schedule. Recent releases have been made roughly biennially by the Debian Project. The most recent version of Debian is Debian version 12, codename \"Bookworm\". The next up and coming release of Debian is Debian 13, codename \"Trixie\".Debian always has at least three active branches at any time: \"stable\", \"testing\" and \"unstable\". The stable branch is considered the primary release and what most people refer to when talking about Debian. The testing branch contains packages that have been imported from unstable. Testing has significantly more up-to-date packages than stable and is frozen some time before a release to become the next version of Debian. The unstable release (also known as Sid) is the branch where active development takes place. It is the most volatile version of Debian.\n",
      "When the Debian stable branch is replaced with a newer release, the current stable becomes an \"oldstable\" release. When the Debian stable branch is replaced again, the oldstable release becomes the \"oldoldstable\" release. Oldoldstable is eventually moved to the archived releases repository.\n",
      "\n",
      "\n"
     ]
    }
   ],
   "source": [
    "subject = 'Debian version history'\n",
    "url = 'https://en.wikipedia.org/w/api.php'\n",
    "params = {\n",
    "        'action': 'query',\n",
    "        'format': 'json',\n",
    "        'titles': subject,\n",
    "        'prop': 'extracts',\n",
    "        'exintro': True,\n",
    "        'explaintext': True,\n",
    "    }\n",
    " \n",
    "response = requests.get(url, params=params)\n",
    "data = response.json()\n",
    " \n",
    "page = next(iter(data['query']['pages'].values()))\n",
    "print(page['extract'])"
   ]
  },
  {
   "cell_type": "code",
   "execution_count": 153,
   "metadata": {},
   "outputs": [],
   "source": [
    "import wikipedia \n",
    "import time\n",
    "def wikipedia_info(subject: str) -> str:\n",
    "    time.sleep(50)\n",
    "    url = 'https://en.wikipedia.org/w/api.php'\n",
    "    params = {\n",
    "            'origin':'*',\n",
    "            'action': 'query',\n",
    "            'format': 'json',\n",
    "            'prop': 'extracts',\n",
    "            'exintro': True,\n",
    "            'explaintext': True,\n",
    "            \"exlimit\": 1, \n",
    "            'generator': \"search\",\n",
    "            'gsrsearch': subject,\n",
    "            'gsrwhat':'text',\n",
    "            'gsrsort': 'relevance'\n",
    "        }\n",
    "    data = requests.get(url, params=params).json() \n",
    "\n",
    "    if \"query\" in data:\n",
    "        if len(data['query']['pages'])>1:\n",
    "            warnings = '**WARNING - need to check veracity**'\n",
    "            summary = warnings + list(data['query']['pages'].values())[0]['extract']\n",
    "            return summary\n",
    "        else:\n",
    "            params = {\n",
    "                    'action': 'query',\n",
    "                    'format': 'json',\n",
    "                    'titles': subject,\n",
    "                    'prop': 'extracts',\n",
    "                    'exintro': True,\n",
    "                    'explaintext': True,\n",
    "                }\n",
    "            \n",
    "            data = requests.get(url, params=params).json()            \n",
    "            page = next(iter(data['query']['pages'].values()))\n",
    "            return page['extract']\n",
    "    else: \n",
    "        if wikipedia.suggest(subject) is not None:\n",
    "            subject_suggested = wikipedia.suggest(subject)\n",
    "            return wikipedia_info(subject_suggested)\n",
    "        else: \n",
    "            return 'No match'"
   ]
  },
  {
   "cell_type": "code",
   "execution_count": 154,
   "metadata": {},
   "outputs": [],
   "source": [
    "result_dict = {}\n",
    "for company_name in df['Company name']:\n",
    "    result = wikipedia_info(company_name)\n",
    "    result_dict[company_name] = result"
   ]
  },
  {
   "cell_type": "code",
   "execution_count": 155,
   "metadata": {},
   "outputs": [
    {
     "data": {
      "text/plain": [
       "{'Oakland University': '**WARNING - need to check veracity**The Erdős number (Hungarian: [ˈɛrdøːʃ]) describes the \"collaborative distance\" between mathematician Paul Erdős and another person, as measured by authorship of mathematical papers. The same principle has been applied in other fields where a particular individual has collaborated with a large and broad number of peers.',\n",
       " 'TomTom North America, Inc.': \"**WARNING - need to check veracity**TOM'S Inc. (株式会社トムス, Kabushiki-gaisha Tomusu) is an automotive aftermarket parts manufacturer and tuner of Toyota and Lexus vehicles and factory-backed racing team. TOM'S head office is located in Tokyo, Japan.TOM'S most prominently produces aftermarket parts for current Toyota vehicles, and has also created its own special edition of certain current Lexus models.In motorsport, the company is currently heavily involved with Super GT, Super Formula and Super Formula Lights.\",\n",
       " '3m': \"**WARNING - need to check veracity**3M Company (originally the Minnesota Mining and Manufacturing Company) is an American multinational conglomerate operating in the fields of industry, worker safety, healthcare, and consumer goods. The company produces over 60,000 products under several brands, including adhesives, abrasives, laminates, passive fire protection, personal protective equipment, window films, paint protection films, dental and orthodontic products, electrical and electronic connecting and insulating materials, medical products, car-care products, electronic circuits, healthcare software, and optical films. It is based in Maplewood, a suburb of Saint Paul, Minnesota.3M made $35.4 billion in total sales in 2021 and ranked number 102 in the Fortune 500 list of the largest United States corporations by total revenue. As of 2021, the company had approximately 95,000 employees and operations in more than 70 countries. There are a few international subsidiaries, such as 3M India, 3M Japan, and 3M Canada.In June 2023, 3M reached a settlement to pay more than $10 billion to US public water systems to resolve claims over the company's contamination of water with PFASs (so-called forever chemicals).\",\n",
       " 'DIVCON Controls': '**WARNING - need to check veracity**Clarence Dillon (September 27, 1882 – April 14, 1979) was an American financier, and namesake of Dillon, Read & Co., an investment bank. In 1957, Fortune Magazine listed Dillon as one of the richest men in the United States, with a fortune then estimated to be from $150 to $200 million.',\n",
       " 'San Francisco Elevator Services Inc.': '**WARNING - need to check veracity**The 50 United Nations Plaza Federal Office Building is a United States federal building located on United Nations Plaza between Hyde and McAllister Streets in San Francisco, California. The 1936 Neoclassical style building, designed by Arthur Brown, Jr., is listed on the National Register of Historic Places, and is a contributing property to the San Francisco Civic Center Historic District, which is a National Historic Landmark.',\n",
       " 'North Jersey Inspection Services': \"**WARNING - need to check veracity**Conrail Shared Assets Operations (CSAO) is the commonly used name for modern-day Conrail (reporting mark CRCX), an American railroad company. It operates three networks, the North Jersey, South Jersey/Philadelphia, and Detroit Shared Assets Areas, where it serves as a contract local carrier and switching company for its owners, CSX Transportation and the Norfolk Southern Railway. When most of the former Conrail's track was split between these two railroads, the three shared assets areas (a total of about 1,200 miles of track) were kept separate to avoid giving one railroad an advantage in those areas. The company operates using its own employees and infrastructure but owns no equipment outside MOW equipment.\",\n",
       " 'R Recruitment': '**WARNING - need to check veracity**In college athletics in the United States, recruiting is the process in which college coaches add prospective student athletes to their roster each off-season. This process typically culminates in a coach extending an athletic scholarship offer to a player who is about to be a junior in high school or higher. There are instances, mostly at lower division universities, where no athletic scholarship can be awarded and where the player pays for tuition, housing, and textbook costs out of pocket or from financial aid. During this recruiting process, schools must comply with rules that define who may be involved in the recruiting process, when recruiting may occur and the conditions under which recruiting may be conducted. Recruiting rules seek, as much as possible, to control intrusions into the lives of prospective student-athletes. The NCAA defines recruiting as “any solicitation of prospective student-athletes or their parents by an institutional staff member or by a representative of the institution’s athletics interests for the purpose of securing a prospective student-athlete’s enrollment and ultimate participation in the institution’s intercollegiate athletics program.\"\\n\\n',\n",
       " 'Consume 4 Less': '**WARNING - need to check veracity**Under the Whyte notation for the classification of steam locomotives, 4-8-4 represents the wheel arrangement of four leading wheels on two axles, eight powered and coupled driving wheels on four axles and four trailing wheels on two axles. The type was first used by the Northern Pacific Railway, and initially named the Northern Pacific, but railfans and railroad employees have shortened the name since its introduction. It is most-commonly known as a Northern.',\n",
       " 'SK and Company Accountants Ltd.': '**WARNING - need to check veracity**APOEL FC (Greek: ΑΠΟΕΛ; short for Αθλητικός Ποδοσφαιρικός Όμιλος Ελλήνων Λευκωσίας, Athletikos Podosferikos Omilos Ellinon Lefkosias, lit. \"Athletic Football Club of Greeks of Nicosia\") is a Cypriot professional football club based in Nicosia, Cyprus. APOEL is the most successful football team in Cyprus with an overall tally of 28 national championships, 21 cups, and 13 super cups.APOEL\\'s greatest moment in European competition occurred in the 2011–12 season, when they advanced out of the group stage of the UEFA Champions League (winning a group that included FC Porto, Shakhtar Donetsk, and Zenit St. Petersburg), then eliminated Olympique Lyonnais in the last 16, to become the first Cypriot team to reach the quarter-finals of the Champions League. APOEL\\'s European competitions highlights also include appearances in the group stages of the 2009–10 and 2014–15 UEFA Champions League and the group stages of the 2013–14, 2015–16, and 2016–17 UEFA Europa League. They marked their most successful UEFA Europa League campaign during the 2016–17 season, when they managed to top their group (along with Olympiacos, Young Boys, and Astana) and eliminated Athletic Bilbao in the round of 32, to reach the last 16 of the competition for the first time in their history. APOEL is the only Cypriot club who have reached the group stages (and the knockout stages) of both major UEFA competitions (UEFA Champions League and UEFA Europa League). In the 2016–17 season, APOEL drew an average home league attendance of 7,126 and their highest league attendance was 15,462. Both were the highest in the league.APOEL FC is part of the APOEL multi-sport club, which was founded in 1926 and maintains departments for several sports including football, basketball, volleyball, futsal, table tennis, bowling, cycling, archery, swimming and water polo. APOEL is one of the founding members of the Cyprus Football Association and also an ordinary member of the European Club Association, an organization that replaced the previous G-14 which consists of major football clubs in Europe.',\n",
       " 'Themathsurgery': 'No match',\n",
       " 'Opulent Motors': \"**WARNING - need to check veracity**The Ambassador is an automobile manufactured and marketed by American Motors Corporation (AMC) from 1957 through 1974 over eight generations, available in two- and four-door sedan, two-door hardtop, four-door station wagon as well as two-door convertible body styles. It was classified as a full-size car from 1957 through 1961, mid-size from 1962 until 1966, and again full-size from 1967 through 1974 model years.\\nWhen discontinued, the Ambassador nameplate had been used from 1927 until 1974, the longest continuously used car nameplate until then. The Ambassador nameplate was used variously as the Ambassador V-8 by Rambler, Rambler Ambassador, and finally AMC Ambassador. Previously, the nameplate Ambassador applied to Nash's full-size cars. The nameplate referred to a trim level between 1927 and 1931.\\nAmbassadors were continuously manufactured at AMC's Lake Front plant in Kenosha, Wisconsin until 1974, as well as at AMC's Brampton Assembly in Brampton, Ontario between 1963 and 1966. Australian Motor Industries (AMI) assembled Ambassadors from knock-down kits with right-hand drive from 1961 until 1963. The U.S. fifth-generation Ambassadors were manufactured by Industrias Kaiser Argentina (IKA) in Córdoba, Argentina from 1965 until 1972, as well as assembled by ECASA in Costa Rica from 1965 through 1970. Planta REO assembled first-generation Ambassadors in Mexico at its Monterrey, Nuevo León plant. Fifth- and seventh-generation Ambassadors were modified into custom stretch limousines in Argentina and the U.S.\\n\\n\",\n",
       " 'Samson Security': '**WARNING - need to check veracity**A mass shooting occurred on September 24, 2017, when a gunman opened fire at the Burnette Chapel Church of Christ in Antioch, Tennessee, part of the Greater Nashville area, killing one person and injuring six others.\\nThe perpetrator was identified as Emanuel Kidega Samson, a 25-year-old native of Sudan. Samson was arrested after getting into an altercation with a bystander, and charged with first-degree murder and 43 other charges. The suspect indicated that the attack was an act of revenge for the 2015 Charleston church shooting.\\n\\n',\n",
       " 'JC PAVING & GROUNDWORKS': '**WARNING - need to check veracity**Dwight David Eisenhower ( EYE-zən-how-ər; born David Dwight Eisenhower; October 14, 1890 – March 28, 1969), nicknamed Ike, was an American military officer and statesman who served as the 34th president of the United States from 1953 to 1961. During World War II, he served as Supreme Commander of the Allied Expeditionary Force in Europe and achieved the five-star rank as General of the Army. Eisenhower planned and supervised two of the most consequential military campaigns of World War II:  Operation Torch in the North Africa campaign in 1942–1943 and the D-Day invasion of Normandy in 1944.\\nEisenhower was born into a large family of mostly Pennsylvania Dutch ancestry in Denison, Texas, and raised in Abilene, Kansas. His family had a strong religious background, and his mother became a Jehovah\\'s Witness. Eisenhower, however, belonged to no organized church until 1952. He graduated from West Point in 1915 and later married Mamie Doud, with whom he had two sons. During World War I, he was denied a request to serve in Europe and instead commanded a unit that trained tank crews. Following the war, he served under various generals and was promoted to the rank of brigadier general in 1941. After the United States entered World War II, Eisenhower oversaw the invasions of North Africa and Sicily before supervising the invasions of France and Germany. After the war ended in Europe, he served as military governor of the American-occupied zone of Germany (1945), Army Chief of Staff (1945–1948), president of Columbia University (1948–1953), and as the first supreme commander of NATO (1951–1952). He was also the last president to have been born in the nineteenth century.\\nIn 1952, Eisenhower entered the presidential race as a Republican to block the isolationist foreign policies of Senator Robert A. Taft, who opposed NATO and wanted no foreign entanglements. Eisenhower won that election and the 1956 election in landslides, both times defeating Adlai Stevenson II. Eisenhower\\'s main goals in office were to contain the spread of communism and reduce federal deficits. In 1953, he considered using nuclear weapons to end the Korean War and may have threatened China with nuclear attack if an armistice was not reached quickly. China did agree and an armistice resulted, which remains in effect. His New Look policy of nuclear deterrence prioritized \"inexpensive\" nuclear weapons while reducing funding for expensive Army divisions. He continued Harry S. Truman\\'s policy of recognizing Taiwan as the legitimate government of China, and he won congressional approval of the Formosa Resolution. His administration provided major aid to help the French fight off Vietnamese Communists in the First Indochina War. After the French left, he gave strong financial support to the new state of South Vietnam. He supported regime-changing military coups in Iran and Guatemala orchestrated by his own administration. During the Suez Crisis of 1956, he condemned the Israeli, British, and French invasion of Egypt, and he forced them to withdraw. He also condemned the Soviet invasion during the Hungarian Revolution of 1956 but took no action. He deployed 15,000 soldiers during the 1958 Lebanon crisis. Near the end of his term, a summit meeting with the Soviet leader Nikita Khrushchev was cancelled when a U.S. spy plane was shot down over the Soviet Union. Eisenhower approved the Bay of Pigs Invasion, which was left to John F. Kennedy to carry out.\\nOn the domestic front, Eisenhower governed as a moderate conservative who continued New Deal agencies and expanded Social Security. He covertly opposed Joseph McCarthy and contributed to the end of McCarthyism by openly invoking executive privilege. He signed the Civil Rights Act of 1957 and sent Army troops to enforce federal court orders which integrated schools in Little Rock, Arkansas. His administration undertook the development and construction of the Interstate Highway System, which remains the largest construction of roadways in American history. In 1957, following the Soviet launch of Sputnik, Eisenhower led the American response which included the creation of NASA and the establishment of a stronger, science-based education via the National Defense Education Act. Following the establishment of NASA, the Soviet Union began to reinforce their own space program, escalating the Space Race. His two terms saw unprecedented economic prosperity except for a minor recession in 1958. In his farewell address to the nation, he expressed his concerns about the dangers of massive military spending, particularly deficit spending and government contracts to private military manufacturers, which he dubbed \"the military–industrial complex\". Historical evaluations of his presidency place him among the upper tier of American presidents.',\n",
       " 'Progress Cleaning Services': '**WARNING - need to check veracity**Clean technology, in short cleantech or climatetech, is any process, product, or service that reduces negative environmental impacts through significant energy efficiency improvements, the sustainable use of resources, or environmental protection activities. Clean technology includes a broad range of technology related to recycling, renewable energy, information technology, green transportation, electric motors, green chemistry, lighting, grey water, and more. Environmental finance is a method by which new clean technology projects can obtain financing through the generation of carbon credits.  A project that is developed with concern for climate change mitigation is also known as a carbon project.\\nClean Edge, a clean technology research firm, describes clean technology \"a diverse range of products, services, and processes that harness renewable materials and energy sources, dramatically reduce the use of natural resources, and cut or eliminate emissions and wastes.\" Clean Edge notes that, \"Clean technologies are competitive with, if not superior to, their conventional counterparts. Many also offer significant additional benefits, notably their ability to improve the lives of those in both developed and developing countries.\"\\n\\nInvestments in clean technology have grown considerably since coming into the spotlight around 2000. According to the United Nations Environment Program, wind, solar, and biofuel companies received a record $148 billion in new funding in 2007 as rising oil prices and climate change policies encouraged investment in renewable energy. $50 billion of that funding went to wind power. Overall, investment in clean-energy and energy-efficiency industries rose 60 percent from 2006 to 2007. In 2009, Clean Edge forecasted that the three main clean technology sectors, solar photovoltaics, wind power, and biofuels, would have revenues of $325.1 billion by 2018.According to an MIT Energy Initiative Working Paper published in July 2016, about a half of over $25 billion funding provided by venture capital to cleantech from 2006 to 2011 was never recovered. The report cited cleantech\\'s dismal risk/return profiles and the inability of companies developing new materials, chemistries, or processes to achieve manufacturing scale as contributing factors to its flop.Clean technology has also emerged as an essential topic among businesses and companies. It can reduce pollutants and dirty fuels for every company, regardless of which industry they are in, and using clean technology has become a competitive advantage. Through building their Corporate Social Responsibility (CSR) goals, they participate in using clean technology and other means by promoting Sustainability. Fortune Global 500 firms spend around $20 billion a year on CSR activities in 2018.\\n\\n',\n",
       " 'Ken Ward Auto Electrical Ltd.': \"**WARNING - need to check veracity**The 1944 King's Birthday Honours, celebrating the official birthday of King George VI, were announced on 2 June 1944 for the United Kingdom and British Empire, New Zealand, and South Africa.They included a large number of people awarded the British Empire Medal (BEM).\\nThe recipients of honours are displayed here as they were styled before their new honour, and arranged by honour, with classes (Knight, Knight Grand Cross, etc.) and then divisions (Military, Civil, etc.) as appropriate.\",\n",
       " 'BMH Construction': '**WARNING - need to check veracity**Bacchus Marsh railway station is located on the Serviceton line in Victoria, Australia. It serves the town of Maddingley, and it opened on 10 February 1887.A number of sidings once existed opposite the station and were used to stable trains. It also has an operational 70-foot long (21 m) turntable, that is mainly used for turning steam locomotives on special trains.',\n",
       " 'Ansata Hire Solutions': '**WARNING - need to check veracity**The 2023 Israel–Hamas war sparked protests, demonstrations, and vigils around the world. These events focused on a variety of issues related to the conflict, including demands for a ceasefire, an end to the blockade, returning Israeli hostages, protesting war crimes, and providing humanitarian aid to Gaza. Protests against Israeli action in Gaza were notably large across the Middle East and North Africa, particularly following the al-Ahli Arab Hospital explosion. Since the war began on 7 October, the number of dead has exceeded 9,770, including 4,800 children, 2,559 women, and 19,000 injured.In some European countries, public support for Palestine and the Palestinian cause was criminalized, with countries such as France, Germany, the United Kingdom, and Hungary restricting pro-Palestinian political speech. Germany banned fundraising, the displaying of the Palestinian flag and the wearing of the keffiyeh. The conflict also sparked large protests at Israeli and U.S. embassies around the world.\\n\\n',\n",
       " 'C.G.W Chestnut': '**WARNING - need to check veracity**The genus Aesculus ( or ), with species called buckeye and horse chestnut, comprises 13–19 species of flowering plants in the family Sapindaceae. They are trees and shrubs native to the temperate Northern Hemisphere, with six species native to North America and seven to 13 species native to Eurasia. Several hybrids occur. Aesculus exhibits a classical Arcto-Tertiary distribution.Mexican buckeye seedpods resemble the Aesculus seedpods, but belong to a different genus.\\nCarl Linnaeus named the genus Aesculus after the Roman name for an edible acorn. Common names for these trees include \"buckeye\" and \"horse chestnut\", though they are not in the same order as the true chestnuts, Castanea in the Fagales. Some are also called white chestnut or red chestnut. In Britain, they are sometimes called conker trees because of their link with the game of conkers, played with the seeds, also called conkers.',\n",
       " 'ABC Locksmiths': '**WARNING - need to check veracity**20th Century Studios, Inc. (formerly known as 20th Century Fox and often shortened to 20th Century) is an American film studio currently owned by The Walt Disney Studios, a division of Disney Entertainment, in turn a division of The Walt Disney Company. It is headquartered at the Fox Studio Lot in the Century City area of Los Angeles. Walt Disney Studios Motion Pictures distributes and markets the films produced by 20th Century Studios in theatrical markets.For over 80 years, 20th Century was one of the major American film studios. It was formed in 1935 as Twentieth Century-Fox Film Corporation by the merger of Fox Film and Twentieth Century Pictures, and one of the original \"Big Five\" among eight majors of Hollywood\\'s Golden Age. In 1985, the studio removed the hyphen in the name (becoming Twentieth Century Fox Film Corporation) after being acquired by Rupert Murdoch\\'s News Corporation, which was renamed 21st Century Fox in 2013 after it spun-off its publishing assets. Disney purchased most of 21st Century Fox\\'s assets, which included 20th Century Fox, on March 20, 2019. The studio adopted its current name as a trade name on January 17, 2020, in order to avoid confusion with Fox Corporation, and subsequently started to use it for the copyright of 20th Century and Searchlight Pictures productions on December 4.The most commercially successful film series from 20th Century Studios include the first six Star Wars films, X-Men, Ice Age, Avatar, and Planet of the Apes as well as numerous television shows such as The Simpsons. Additionally, the film studio\\'s archive includes many individual movies such as Titanic which won the Academy Award for Best Picture and was the highest grossing movie of all time for over a decade and The Sound of Music which received five Academy Awards, including Best Picture and Best Director.',\n",
       " 'Set Up Locations': '**WARNING - need to check veracity**Jason Aldean (born Jason Aldine Williams; February 28, 1977) is an American country music singer. Since 2005, he has been signed to Broken Bow Records, a record label for which he has released eleven albums and 40 singles. His 2010 album, My Kinda Party, is certified quadruple-platinum by the Recording Industry Association of America (RIAA). His 2012 album Night Train is certified double-platinum, while his 2005 self-titled debut, 2007 album Relentless, 2009 album Wide Open, and 2014 album Old Boots, New Dirt are all certified platinum. Aldean has received five Grammy Award nominations throughout his career, twice for Best Country Album.\\n27 of Aldean\\'s 38 singles have reached #1 on either the Hot Country Songs or Country Airplay charts with \"Why\", \"She\\'s Country\", \"Big Green Tractor\", \"The Truth\", \"Don\\'t You Wanna Stay\" (a duet with Kelly Clarkson), \"Dirt Road Anthem\", \"Fly Over States\", \"Take a Little Ride\", \"The Only Way I Know\" (a collaboration with Luke Bryan and Eric Church), \"Night Train\", \"When She Says Baby\", \"Burnin\\' It Down\", \"Just Gettin\\' Started\", \"Tonight Looks Good on You\", \"Lights Come On\", \"A Little More Summertime\", \"Any Ol\\' Barstool\", \"You Make It Easy\", \"Drowns the Whiskey\" (a duet with Miranda Lambert), \"Girl Like You\", \"Rearview Town\", \"Got What I Got\", \"Blame It on You\", \"If I Didn\\'t Love You\" (a duet with Carrie Underwood), and \"Trouble with a Heartbreak\". In 2023, he released \"Try That in a Small Town\", which was the subject of widespread media attention following the release of its music video, whilst becoming Aldean\\'s first number-one hit on the Billboard Hot 100.\\n\\n',\n",
       " 'EBF IT': '**WARNING - need to check veracity**Breastfeeding promotion refers to coordinated activities and policies to promote health among women, newborns and infants through breastfeeding.\\nThe World Health Organization (WHO) recommends infants should be exclusively breastfed for the first six months of life to achieve optimal health and development, followed by complementary foods while continuing breastfeeding for up to two years or beyond. However, currently fewer than 40% of infants under six months of age are exclusively breastfed worldwide.Public health awareness events such as World Breastfeeding Week, as well as training of health professionals and planning, aim to increase this number.',\n",
       " 'Pexhurst': \"**WARNING - need to check veracity**Baron Hardinge of Penshurst, in the County of Kent, is a title in the Peerage of the United Kingdom. It was created in 1910 for the diplomat the Hon. Sir Charles Hardinge, Viceroy and Governor-General of India from 1910 to 1916. He was the second son of Charles Hardinge, 2nd Viscount Hardinge. His son, the second Baron, served as private secretary to both King Edward VIII and King George VI.\\nAs of 2014 the title is held by the latter's grandson, the fourth Baron, who succeeded his father in 1997.\\n\\n\",\n",
       " 'Hopkinson Dental': \"**WARNING - need to check veracity**Ian Anthony Hamilton-Smith, 3rd Baron Colwyn  (born 1 January 1942), commonly known as Anthony Hamilton-Smith, is a British peer and former politician. He was one of 90 hereditary peers elected to remain in the House of Lords after the House of Lords Act 1999, sitting as a Conservative. He retired from the House of Lords on 21 July 2022.The son of the 2nd Baron Colwyn, he was educated at Cheltenham College, at St Bartholomew's Hospital and at the Royal Dental Hospital. He then graduated from the  University of London with a Bachelor of Dental Surgery (BDS) and a Licentiate in Dental Surgery (LDS) in 1966, and became a member of the Royal College of Surgeons of England. In the same year, he succeeded to his father's titles.\\nHe worked as dentist from 1965 to 2005 and was Chair of the Dental Protection Ltd (a professional support organisation) from 1995 to 2001. He was non-executive director of the Medical Protection Society between 1989 and 2002, and of Project Hope between 1996 and 2001. In 1998 and 1999, Hamilton-Smith was chair of the radiostation Raw FM, and of Banbury Local Radio from 2003 to 2005. From 2005 to 2008 he was chair of Campbell Montague International and of Dental Sedation Practice.\\nDue to commitments at the House of Lords, he stepped down as chairman of Campbell Montague International in 2008.\\nHamilton-Smith was a member of the Eastman Research Institute Trust from 1990 to 2001. Since 2004, he has been a trustee of the Portman Estate. He is also a Fellow of the Industry and Parliament Trust and a Member of the Royal Society of Medicine. Between 1999 and 2001, he was a Fellow of the Institute of Directors.\\nBetween 1988 and 2005, Lord Colwyn was President of the Natural Medicines Society, between 1991 and 1998 of the Huntington's Disease Association and between 1993 and 1998 of the Society for Advancement of Anaesthesia in Dentistry. He was President of the Arterial Health Foundation from 1993 to 2004, of the Metropolitan Branch of the British Dental Association (BDA) in 1994 and 1995, and a council member of the Medical Protection Society from 1994 to 2001. He was invested as a Commander of the Order of the British Empire (CBE) in 1989, and became a Fellow of the British Dental Association in 2005. He is also joint chair of the All Party Parliamentary Jazz Appreciation Group.Hamilton-Smith has been married twice; first to Sonia Jane Morgan in 1964, and after their divorce in 1976, he married Nicola Jeanne Tyers in 1977. He has one son, Craig Peter Hamilton-Smith, and one daughter, Jacqueline Jane Hamilton-Smith (married to Sean Pertwee), by his first wife and two daughters, Kirsten Antonia Hamilton-Smith and Tanya Nicole Hamilton-Smith, by his second wife.\\n\\n\",\n",
       " 'Zeeniya': '**WARNING - need to check veracity**13 Ah Visnaa Dhehaas is a 2012 Maldivian political comedy short film directed by Abdulla Muaz. Produced by Mohamed Abdulla under Dhekedheke Ves Productions, the film stars Abdulla, Niuma Mohamed, Ismail Rasheed and Fathimath Azifa in pivotal roles. The entire film was shot in R. Ungoofaaru. At the 3rd Maldives Film Awards ceremony, the film was nominated in eight categories.',\n",
       " 'Halo-HR Consulting': '**WARNING - need to check veracity**The 2011 Major League Baseball season began on Thursday, March 31, and ended on Wednesday, September 28. This marked the first time a season began on a Thursday since 1976, and the first time a regular season ended on a Wednesday since 1990. The 82nd edition of the Major League Baseball All-Star Game was played at Chase Field in Phoenix, Arizona, on July 12 with the National League defeating the American League for the second straight year, by a score of 5–1.  As had been the case since 2003, the league winning that game had home field advantage in the World Series.  Accordingly, the World Series began on October 19, and ended on October 28, with the St. Louis Cardinals winning in seven games over the Texas Rangers.The season is notable for its wild card chase on the last day of the regular season.\\nOnly two teams were unable to complete the entire 162-game regular season schedule, as the make-up game between the Los Angeles Dodgers and the Washington Nationals at Nationals Park on September 8 was cancelled due to rain and not made up, owing to scheduling constraints and the game being inconsequential to the playoffs.\\n\\n',\n",
       " 'Cadenza Developments': '**WARNING - need to check veracity**Cadenza Innovation Inc. is an American developer and designer of lithium-ion battery technologies and energy storage solutions. The company was founded in 2012 by inorganic chemist and battery researcher Christina Lampe-Önnerud. Cadenza licenses its lithium ion cell architecture to global manufacturers for various energy storage applications.',\n",
       " 'JCDunn Safety Limited': 'No match',\n",
       " 'Lewis & Burgoyne': '**WARNING - need to check veracity**This covers all the results and statistics for the Brisbane Lions in the 2010 AFL season.',\n",
       " 'Games N Cards N More': '**WARNING - need to check veracity**Chip \\'n Dale: Rescue Rangers is an American animated adventure comedy television series produced by Walt Disney Television Animation. Created by Tad Stones and Alan Zaslove, it featured established Disney characters Chip \\'n\\' Dale in a new setting. The series premiered on The Disney Channel on March 4, 1989, after the episode \"Catteries Not Included\" aired on August 27, 1988, as a preview. The series continued in September with a two-hour special, Rescue Rangers: To the Rescue, later divided into five parts to air as part of the weekday run. The final episode aired on November 19, 1990.\\nOn September 18, 1989, the series entered national syndication. It often aired afternoons along with and following DuckTales and later TaleSpin. From 1990 to 1993, reruns were aired as a part of The Disney Afternoon. It was shown on Toon Disney upon that channel\\'s launch in 1998 but was removed a decade later. The entire run became available (as one season) as part of Disney+ as of its launch on November 12, 2019, fully remastered in high definition. The series was initially released on Blu-ray on January 25, 2022, via Disney Movie Club, then everywhere else on February 15, 2022.A live-action/animated metafictional sequel film with the same name was released on Disney+ on May 20, 2022. From May 19–20, 2022, Disney XD reran the show to promote the film.',\n",
       " 'MealShift': \"**WARNING - need to check veracity**A series of coordinated attacks, conducted by the Palestinian Islamist militant group Hamas, from the Gaza Strip into bordering areas in Israel, commenced on Saturday, 7 October 2023, a Sabbath day and date of several Jewish holidays. Hamas meticulously planned for a massacre of Israeli civilians with the goal of provoking Israel to invade Gaza.  The attacks initiated the 2023 Israel–Hamas war, almost exactly fifty years after the Yom Kippur War began on 6 October 1973. Hamas and other Palestinian armed groups named the attacks Operation Al-Aqsa Flood (or Deluge; Arabic: عملية طوفان الأقصى, romanized: ʿamaliyyat ṭūfān al-ʾAqṣā), while they are referred to in Israel as Black Saturday (Hebrew: השבת השחורה), the Simchat Torah Massacre (הטבח בשמחת תורה), and the 7/10 attacks or 7 October attacks (פיגועי 7 באוקטובר).The attacks began in the early morning with a rocket barrage of at least 3,000 rockets launched against Israel and vehicle-transported and powered paraglider incursions into its territory. Hamas fighters breached the Gaza–Israel barrier, killing civilians in neighboring Israeli communities and attacking Israeli military bases. In a single day, 859 Israeli civilians and at least 345 Israeli soldiers and policemen were killed in nearby towns, kibbutzim, military bases and at a music festival near Re'im. Around 200 Israeli civilians and soldiers were taken as hostages to the Gaza Strip, of which the number of kidnapped children is about 30.At least 44 nations denounced the attack as terrorism, while Arab and Muslim countries including Qatar, Saudi Arabia, Kuwait, Syria, Iran and Iraq have blamed Israel for the attack. The day is considered the bloodiest in Israel's history and the deadliest for Jews since The Holocaust.\",\n",
       " 'Microsoft': '**WARNING - need to check veracity**Microsoft Office is a set of interrelated desktop applications, servers and services, collectively referred to as an office suite, for the Microsoft Windows and macOS operating systems.\\nThis list contains all the programs that are, or have been, in Microsoft Office since  \\n\\n',\n",
       " 'Apple': \"**WARNING - need to check veracity**An apple is a round, edible fruit produced by an apple tree (Malus domestica). Apple trees are cultivated worldwide and are the most widely grown species in the genus Malus. The tree originated in Central Asia, where its wild ancestor, Malus sieversii, is still found. Apples have been grown for thousands of years in Asia and Europe and were introduced to North America by European colonists. Apples have religious and mythological significance in many cultures, including Norse, Greek, and European Christian tradition.\\nApples grown from seed tend to be very different from those of their parents, and the resultant fruit frequently lacks desired characteristics. For commercial purposes, including botanical evaluation, apple cultivars are propagated by clonal grafting onto rootstocks. Apple trees grown without rootstocks tend to be larger and much slower to fruit after planting. Rootstocks are used to control the speed of growth and the size of the resulting tree, allowing for easier harvesting.\\nThere are more than 7,500 cultivars of apples. Different cultivars are bred for various tastes and uses, including cooking, eating raw, and cider or apple juice production. Trees and fruit are prone to fungal, bacterial, and pest problems, which can be controlled by a number of organic and non-organic means. In 2010, the fruit's genome was sequenced as part of research on disease control and selective breeding in apple production.\\nWorldwide production of apples in 2021 was 93 million tonnes, with China accounting for nearly half of the total.\\n\\n\"}"
      ]
     },
     "execution_count": 155,
     "metadata": {},
     "output_type": "execute_result"
    }
   ],
   "source": [
    "result_dict"
   ]
  }
 ],
 "metadata": {
  "kernelspec": {
   "display_name": ".venv",
   "language": "python",
   "name": "python3"
  },
  "language_info": {
   "codemirror_mode": {
    "name": "ipython",
    "version": 3
   },
   "file_extension": ".py",
   "mimetype": "text/x-python",
   "name": "python",
   "nbconvert_exporter": "python",
   "pygments_lexer": "ipython3",
   "version": "3.11.0"
  }
 },
 "nbformat": 4,
 "nbformat_minor": 2
}
